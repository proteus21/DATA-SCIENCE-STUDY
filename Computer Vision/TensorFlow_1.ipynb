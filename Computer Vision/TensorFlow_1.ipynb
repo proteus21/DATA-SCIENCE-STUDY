{
  "cells": [
    {
      "cell_type": "markdown",
      "metadata": {
        "id": "view-in-github",
        "colab_type": "text"
      },
      "source": [
        "<a href=\"https://colab.research.google.com/github/proteus21/DATA-SCIENCE-STUDY/blob/main/Computer%20Vision/TensorFlow_1.ipynb\" target=\"_parent\"><img src=\"https://colab.research.google.com/assets/colab-badge.svg\" alt=\"Open In Colab\"/></a>"
      ]
    },
    {
      "cell_type": "markdown",
      "metadata": {
        "id": "6T5jIgsaNydp"
      },
      "source": [
        "# TensorFlow 2.0 <a class=\"tocSkip\">"
      ]
    },
    {
      "cell_type": "code",
      "execution_count": null,
      "metadata": {
        "colab": {
          "base_uri": "https://localhost:8080/"
        },
        "id": "Y6wf-ySBNydq",
        "outputId": "fbb424c6-3a5f-4f22-97f8-91c97e50f2fe"
      },
      "outputs": [
        {
          "output_type": "stream",
          "name": "stdout",
          "text": [
            "Wersja TensorFlow : 2.9.2\n",
            "Wersja Numpy : 1.21.6\n",
            "Interpreter Pythona i wersja: 3.8.10 (default, Nov 14 2022, 12:59:47) \n",
            "[GCC 9.4.0]\n"
          ]
        }
      ],
      "source": [
        "import tensorflow as tf\n",
        "print('Wersja TensorFlow :',tf.__version__)\n",
        "import numpy as np\n",
        "print('Wersja Numpy :',np.__version__)\n",
        "import sys\n",
        "print('Interpreter Pythona i wersja:',sys.version)"
      ]
    },
    {
      "cell_type": "markdown",
      "metadata": {
        "id": "CV08za3ANydr"
      },
      "source": [
        "# Hello TensorFlow "
      ]
    },
    {
      "cell_type": "code",
      "execution_count": null,
      "metadata": {
        "colab": {
          "base_uri": "https://localhost:8080/"
        },
        "id": "hd2DU_h5Nydr",
        "outputId": "7b940841-6f47-4db8-cfe2-b76a2b62bf88"
      },
      "outputs": [
        {
          "output_type": "stream",
          "name": "stdout",
          "text": [
            "Witamy w projekcie TensorFlow!!\n",
            "tf.Tensor(b'Witamy w projekcie TensorFlow!!', shape=(), dtype=string)\n"
          ]
        }
      ],
      "source": [
        "hello = tf.constant('Witamy w projekcie TensorFlow!!')\n",
        "tf.print(hello)\n",
        "print(hello)"
      ]
    },
    {
      "cell_type": "markdown",
      "metadata": {
        "id": "xjngWbXTNyds"
      },
      "source": [
        "# Stałe"
      ]
    },
    {
      "cell_type": "code",
      "execution_count": null,
      "metadata": {
        "colab": {
          "base_uri": "https://localhost:8080/"
        },
        "id": "9Yh5oJjnNyds",
        "outputId": "cab15945-8d94-4173-f540-0ca3384b8575"
      },
      "outputs": [
        {
          "output_type": "stream",
          "name": "stdout",
          "text": [
            "const1 (x):  tf.Tensor(34.0, shape=(), dtype=float32)\n",
            "const2 (y):  tf.Tensor([ 2. 59.], shape=(2,), dtype=float64)\n",
            "const3 (z):  tf.Tensor(32.0, shape=(), dtype=float32)\n"
          ]
        }
      ],
      "source": [
        "const1 = tf.constant(34, name='x', dtype=tf.float32)\n",
        "const2 = tf.constant((2,59.0), name='y', dtype=tf.float64)\n",
        "const3 = tf.constant(32.0, name='z')\n",
        "print('const1 (x): ', const1)\n",
        "print('const2 (y): ', const2)\n",
        "print('const3 (z): ', const3)"
      ]
    },
    {
      "cell_type": "code",
      "execution_count": null,
      "metadata": {
        "colab": {
          "base_uri": "https://localhost:8080/"
        },
        "id": "4YnFq3dwNyds",
        "outputId": "cb2f8d93-1365-475c-e1b3-a07a96cf7bc7"
      },
      "outputs": [
        {
          "output_type": "stream",
          "name": "stdout",
          "text": [
            "run([const1,const2,const3]) : [34, 59, 32]\n"
          ]
        }
      ],
      "source": [
        "print('run([const1,const2,const3]) : ', end='')\n",
        "tf.print([const1, const2, const3])"
      ]
    },
    {
      "cell_type": "markdown",
      "metadata": {
        "id": "YixmDhPqNydt"
      },
      "source": [
        "# Operacje"
      ]
    },
    {
      "cell_type": "code",
      "execution_count": null,
      "metadata": {
        "colab": {
          "base_uri": "https://localhost:8080/"
        },
        "id": "EiHTJ9g_Nydt",
        "outputId": "a81ee31c-8142-484f-9f8e-fae719bcbe83"
      },
      "outputs": [
        {
          "output_type": "stream",
          "name": "stdout",
          "text": [
            "op1 :  tf.Tensor(66.0, shape=(), dtype=float32)\n",
            "op2 :  tf.Tensor(1088.0, shape=(), dtype=float32)\n"
          ]
        }
      ],
      "source": [
        "op1 = tf.add(const1, const3)\n",
        "op2 = tf.multiply(const1, const3)\n",
        "print('op1 : ', op1)\n",
        "print('op2 : ', op2)"
      ]
    },
    {
      "cell_type": "code",
      "execution_count": null,
      "metadata": {
        "colab": {
          "base_uri": "https://localhost:8080/"
        },
        "id": "6I4n3aRNNydt",
        "outputId": "763c02ec-42c5-4e86-a3fb-cd578fe3c7f2"
      },
      "outputs": [
        {
          "output_type": "stream",
          "name": "stdout",
          "text": [
            "run(op1) : 66\n",
            "run(op2) : 1088\n"
          ]
        }
      ],
      "source": [
        "print('run(op1) : ', end='')\n",
        "tf.print(op1)\n",
        "print('run(op2) : ', end='')\n",
        "tf.print(op2)"
      ]
    },
    {
      "cell_type": "markdown",
      "metadata": {
        "id": "UmqLGpokNydu"
      },
      "source": [
        "# Funkcje"
      ]
    },
    {
      "cell_type": "code",
      "execution_count": null,
      "metadata": {
        "id": "dpxtd9ymNydw"
      },
      "outputs": [],
      "source": [
        "@tf.function\n",
        "def add_func(x):\n",
        "    y = x + 10\n",
        "    return y"
      ]
    },
    {
      "cell_type": "code",
      "execution_count": null,
      "metadata": {
        "id": "fwjkO-EyNydw"
      },
      "outputs": [],
      "source": [
        "x = tf.constant([10, 20, 30, 40])"
      ]
    },
    {
      "cell_type": "code",
      "execution_count": null,
      "metadata": {
        "id": "luYe9wLXNydw"
      },
      "outputs": [],
      "source": [
        "result = add_func(x)"
      ]
    },
    {
      "cell_type": "code",
      "execution_count": null,
      "metadata": {
        "colab": {
          "base_uri": "https://localhost:8080/"
        },
        "id": "mILIsRX5Nydx",
        "outputId": "83b56f36-c856-4d88-8218-4267deda524e"
      },
      "outputs": [
        {
          "output_type": "stream",
          "name": "stdout",
          "text": [
            "Tensor(\"PartitionedCall:0\", shape=(4,), dtype=int32)\n"
          ]
        }
      ],
      "source": [
        "print(result)"
      ]
    },
    {
      "cell_type": "code",
      "execution_count": null,
      "metadata": {
        "colab": {
          "base_uri": "https://localhost:8080/"
        },
        "id": "EzgW03AqNydx",
        "outputId": "009b0c1b-f151-4514-d321-02b1e9bb7c5d"
      },
      "outputs": [
        {
          "output_type": "execute_result",
          "data": {
            "text/plain": [
              "<tf.Operation 'PrintV2' type=PrintV2>"
            ]
          },
          "metadata": {},
          "execution_count": 33
        }
      ],
      "source": [
        "tf.print(result)"
      ]
    },
    {
      "cell_type": "markdown",
      "metadata": {
        "id": "Z-oD3gxjNydy"
      },
      "source": [
        "# Tworzenie tensorów z istniejących obiektów"
      ]
    },
    {
      "cell_type": "markdown",
      "metadata": {
        "id": "mggDrj1BNydy"
      },
      "source": [
        "## Tensory zerowego rzędu (skalary)"
      ]
    },
    {
      "cell_type": "code",
      "execution_count": null,
      "metadata": {
        "colab": {
          "base_uri": "https://localhost:8080/"
        },
        "id": "0HqJ2V1-Nydy",
        "outputId": "43f793b2-7dc1-4e32-9dc5-305d73743cd4"
      },
      "outputs": [
        {
          "output_type": "stream",
          "name": "stdout",
          "text": [
            "tf_t :  tf.Tensor(5.0, shape=(), dtype=float64)\n",
            "run(tf_t) : 5\n"
          ]
        }
      ],
      "source": [
        "tf_t = tf.convert_to_tensor(5.0, dtype=tf.float64)\n",
        "\n",
        "print('tf_t : ', tf_t)\n",
        "print('run(tf_t) : ', end='')\n",
        "tf.print(tf_t)"
      ]
    },
    {
      "cell_type": "markdown",
      "metadata": {
        "id": "2uqSspFsNydy"
      },
      "source": [
        "## Tensory 1. rzędu (wektory)"
      ]
    },
    {
      "cell_type": "code",
      "execution_count": null,
      "metadata": {
        "scrolled": true,
        "colab": {
          "base_uri": "https://localhost:8080/"
        },
        "id": "vlLy1o5ENydy",
        "outputId": "ceb2397b-67c1-4283-866e-84a7dbbfb155"
      },
      "outputs": [
        {
          "output_type": "stream",
          "name": "stdout",
          "text": [
            "Kształt a1dim :  (5,)\n",
            "tf_t :  tf.Tensor([1.   2.   3.   4.   5.99], shape=(5,), dtype=float64)\n",
            "tf_t[0] :  tf.Tensor(1.0, shape=(), dtype=float64)\n",
            "tf_t[0] :  tf.Tensor(3.0, shape=(), dtype=float64)\n",
            "run(tf_t) : \n",
            "[1 2 3 4 5.99]\n"
          ]
        }
      ],
      "source": [
        "a1dim = np.array([1, 2, 3, 4, 5.99])\n",
        "print('Kształt a1dim : ', a1dim.shape)\n",
        "\n",
        "tf_t = tf.convert_to_tensor(a1dim, dtype=tf.float64)\n",
        "\n",
        "print('tf_t : ', tf_t)\n",
        "print('tf_t[0] : ', tf_t[0])\n",
        "print('tf_t[0] : ', tf_t[2])\n",
        "print('run(tf_t) : ')\n",
        "tf.print(tf_t)"
      ]
    },
    {
      "cell_type": "markdown",
      "metadata": {
        "id": "RgOx2wSONydy"
      },
      "source": [
        "## Tensory 2. rzędu (macierze)"
      ]
    },
    {
      "cell_type": "code",
      "execution_count": null,
      "metadata": {
        "colab": {
          "base_uri": "https://localhost:8080/"
        },
        "id": "IVT1bllUNydy",
        "outputId": "5827dd7f-ccb1-4026-8ab6-59de117acf85"
      },
      "outputs": [
        {
          "output_type": "stream",
          "name": "stdout",
          "text": [
            "Kształt a2dim :  (3, 5)\n",
            "tf_t :  tf.Tensor(\n",
            "[[1.   2.   3.   4.   5.99]\n",
            " [2.   3.   4.   5.   6.99]\n",
            " [3.   4.   5.   6.   7.99]], shape=(3, 5), dtype=float64)\n",
            "tf_t[0][0] :  tf.Tensor(1.0, shape=(), dtype=float64)\n",
            "tf_t[1][2] :  tf.Tensor(4.0, shape=(), dtype=float64)\n",
            "run(tf_t) :\n",
            "[[1 2 3 4 5.99]\n",
            " [2 3 4 5 6.99]\n",
            " [3 4 5 6 7.99]]\n"
          ]
        }
      ],
      "source": [
        "a2dim = np.array([(1, 2, 3, 4, 5.99),\n",
        "                  (2, 3, 4, 5, 6.99),\n",
        "                  (3, 4, 5, 6, 7.99)\n",
        "                  ])\n",
        "print('Kształt a2dim : ', a2dim.shape)\n",
        "\n",
        "tf_t = tf.convert_to_tensor(a2dim, dtype=tf.float64)\n",
        "\n",
        "print('tf_t : ', tf_t)\n",
        "print('tf_t[0][0] : ', tf_t[0][0])\n",
        "print('tf_t[1][2] : ', tf_t[1][2])\n",
        "print('run(tf_t) :') \n",
        "tf.print(tf_t)"
      ]
    },
    {
      "cell_type": "markdown",
      "metadata": {
        "id": "1vxbqqX5Nydz"
      },
      "source": [
        "## Tensory 3. rzędu"
      ]
    },
    {
      "cell_type": "code",
      "execution_count": null,
      "metadata": {
        "colab": {
          "base_uri": "https://localhost:8080/"
        },
        "id": "A4oFEBF9Nydz",
        "outputId": "8e1c559f-f03b-453f-bc2e-1d515d36dfa0"
      },
      "outputs": [
        {
          "output_type": "stream",
          "name": "stdout",
          "text": [
            "Kształt a3dim :  (2, 2, 2)\n",
            "tf_t :  tf.Tensor(\n",
            "[[[1. 2.]\n",
            "  [3. 4.]]\n",
            "\n",
            " [[5. 6.]\n",
            "  [7. 8.]]], shape=(2, 2, 2), dtype=float64)\n",
            "tf_t[0][0][0] :  tf.Tensor(1.0, shape=(), dtype=float64)\n",
            "tf_t[1][1][1] :  tf.Tensor(8.0, shape=(), dtype=float64)\n",
            "run(tf_t) : \n",
            "[[[1 2]\n",
            "  [3 4]]\n",
            "\n",
            " [[5 6]\n",
            "  [7 8]]]\n"
          ]
        }
      ],
      "source": [
        "a3dim = np.array([[[1, 2],\n",
        "                   [3, 4]\n",
        "                   ],\n",
        "                  [[5, 6],\n",
        "                   [7, 8]\n",
        "                   ]\n",
        "                  ])\n",
        "print('Kształt a3dim : ', a3dim.shape)\n",
        "\n",
        "tf_t = tf.convert_to_tensor(a3dim, dtype=tf.float64)\n",
        "\n",
        "print('tf_t : ', tf_t)\n",
        "print('tf_t[0][0][0] : ', tf_t[0][0][0])\n",
        "print('tf_t[1][1][1] : ', tf_t[1][1][1])\n",
        "print('run(tf_t) : ')\n",
        "tf.print(tf_t)"
      ]
    },
    {
      "cell_type": "markdown",
      "metadata": {
        "id": "ONGqB00xNydz"
      },
      "source": [
        "# Zmienne"
      ]
    },
    {
      "cell_type": "code",
      "execution_count": null,
      "metadata": {
        "scrolled": true,
        "colab": {
          "base_uri": "https://localhost:8080/"
        },
        "outputId": "74ce8ee4-56cb-4692-ba03-87d7e0032453",
        "id": "QDIVAK-LGTL0"
      },
      "outputs": [
        {
          "output_type": "stream",
          "name": "stdout",
          "text": [
            "w: <tf.Variable 'Variable_2:0' shape=(1,) dtype=float32>\n",
            "x: Tensor(\"Placeholder_1:0\", dtype=float32)\n",
            "b: <tf.Variable 'Variable_3:0' shape=(1,) dtype=float32>\n",
            "y: Tensor(\"add_1:0\", dtype=float32)\n"
          ]
        }
      ],
      "source": [
        "# Placeholdery nie są wykonywalne natychmiast, więc musimy wyłączyć żądania wykonania w TF2\n",
        "tf.compat.v1.disable_eager_execution()\n",
        "\n",
        "# Model liniowy y = w * x + b\n",
        "# Definiowanie parametrów modelu\n",
        "w = tf.Variable([.3], tf.float32)\n",
        "b = tf.Variable([-.3], tf.float32)\n",
        "# Definiowanie wejścia i wyjścia modelu\n",
        "x = tf.compat.v1.placeholder(tf.float32)\n",
        "y = w * x + b\n",
        "\n",
        "print('w:', w)\n",
        "print('x:', x)\n",
        "print('b:', b)\n",
        "print('y:', y)"
      ]
    },
    {
      "cell_type": "code",
      "execution_count": null,
      "metadata": {
        "scrolled": true,
        "colab": {
          "base_uri": "https://localhost:8080/"
        },
        "id": "TLchGd7qNydz",
        "outputId": "fe5f79cd-fb9a-487c-9ef7-4f8051ce87e0"
      },
      "outputs": [
        {
          "output_type": "stream",
          "name": "stdout",
          "text": [
            "run(y,{x:[1,2,3,4]}) :  [0.         0.3        0.6        0.90000004]\n"
          ]
        }
      ],
      "source": [
        "# Inicjacja sesji i wydruk zmiennej y\n",
        "with tf.compat.v1.Session() as sess:\n",
        "  sess.run(tf.compat.v1.global_variables_initializer())\n",
        "  print('run(y,{x:[1,2,3,4]}) : ', sess.run(y, {x: [1, 2, 3, 4]}))"
      ]
    },
    {
      "cell_type": "markdown",
      "metadata": {
        "id": "AfeUrdxTNydz"
      },
      "source": [
        "# Tworzenie tensorów z funkcji bibliotecznych"
      ]
    },
    {
      "cell_type": "code",
      "execution_count": null,
      "metadata": {
        "id": "hgYOyVgENydz"
      },
      "outputs": [],
      "source": [
        "a = tf.zeros((100,50))"
      ]
    },
    {
      "cell_type": "code",
      "source": [
        "b = tf.ones((100,))\n",
        "print(b)"
      ],
      "metadata": {
        "colab": {
          "base_uri": "https://localhost:8080/"
        },
        "id": "Pye2ZSyeI4xs",
        "outputId": "1f273784-50b8-4782-dc1b-4d8cfeaf1f1d"
      },
      "execution_count": null,
      "outputs": [
        {
          "output_type": "stream",
          "name": "stdout",
          "text": [
            "Tensor(\"ones_1:0\", shape=(100,), dtype=float32)\n"
          ]
        }
      ]
    },
    {
      "cell_type": "code",
      "source": [
        "c = tf.fill((100,), 5)\n",
        "print(c)"
      ],
      "metadata": {
        "colab": {
          "base_uri": "https://localhost:8080/"
        },
        "id": "rF71XNhoJAB2",
        "outputId": "3820c70e-547d-4da4-8f34-1ece7dae3570"
      },
      "execution_count": null,
      "outputs": [
        {
          "output_type": "stream",
          "name": "stdout",
          "text": [
            "Tensor(\"Fill:0\", shape=(100,), dtype=int32)\n"
          ]
        }
      ]
    },
    {
      "cell_type": "markdown",
      "metadata": {
        "id": "aCaAabI_Nydz"
      },
      "source": [
        "# Grafy obliczeniowe"
      ]
    },
    {
      "cell_type": "markdown",
      "metadata": {
        "id": "DSi-YfrHNydz"
      },
      "source": [
        "## Budowa i uruchomienie prostego grafu obliczeniowego"
      ]
    },
    {
      "cell_type": "code",
      "execution_count": null,
      "metadata": {
        "colab": {
          "base_uri": "https://localhost:8080/"
        },
        "id": "eFuMRgR8Nyd0",
        "outputId": "4abd8fc1-7c5d-4ab7-f730-8d9aeb2168a0"
      },
      "outputs": [
        {
          "output_type": "stream",
          "name": "stdout",
          "text": [
            "wyjście :  [0.         0.3        0.6        0.90000004]\n"
          ]
        }
      ],
      "source": [
        "# Placeholdery nie są wykonywalne natychmiast, więc musimy wyłączyć żądania wykonania w TF2\n",
        "tf.compat.v1.disable_eager_execution()\n",
        "\n",
        "# Model liniowy y = w * x + b\n",
        "# Definiowanie parametrów modelu\n",
        "w = tf.Variable([.3], tf.float32)\n",
        "b = tf.Variable([-.3], tf.float32)\n",
        "# Definiowanie wejścia i wyjścia modelu\n",
        "x = tf.compat.v1.placeholder(tf.float32)\n",
        "y = w * x + b\n",
        "output = 0\n",
        "\n",
        "with tf.compat.v1.Session() as sess:\n",
        "    # Inicjacja i wydruk zmiennej y\n",
        "    tf.compat.v1.global_variables_initializer().run()\n",
        "    output = sess.run(y, {x: [1, 2, 3, 4]})\n",
        "print('wyjście : ', output)"
      ]
    },
    {
      "cell_type": "markdown",
      "metadata": {
        "id": "3Ld5AKaONyd0"
      },
      "source": [
        "## Graf na urządzeniach obliczeniowych"
      ]
    },
    {
      "cell_type": "markdown",
      "metadata": {
        "id": "k2lIJi9JNyd0"
      },
      "source": [
        "### Lista dostępnych urządzeń"
      ]
    },
    {
      "cell_type": "code",
      "execution_count": null,
      "metadata": {
        "colab": {
          "base_uri": "https://localhost:8080/"
        },
        "id": "QnI6IPwiNyd0",
        "outputId": "585dbf0c-121c-4d46-e375-d5e75f9bb1a8"
      },
      "outputs": [
        {
          "output_type": "stream",
          "name": "stdout",
          "text": [
            "[name: \"/device:CPU:0\"\n",
            "device_type: \"CPU\"\n",
            "memory_limit: 268435456\n",
            "locality {\n",
            "}\n",
            "incarnation: 6259035098617011906\n",
            "xla_global_id: -1\n",
            ", name: \"/device:GPU:0\"\n",
            "device_type: \"GPU\"\n",
            "memory_limit: 14415560704\n",
            "locality {\n",
            "  bus_id: 1\n",
            "  links {\n",
            "  }\n",
            "}\n",
            "incarnation: 11687619777407950705\n",
            "physical_device_desc: \"device: 0, name: Tesla T4, pci bus id: 0000:00:04.0, compute capability: 7.5\"\n",
            "xla_global_id: 416903419\n",
            "]\n"
          ]
        }
      ],
      "source": [
        "#na Collabie wcześniej zmień akcelerację sprzętową na GPU\n",
        "from tensorflow.python.client import device_lib\n",
        "\n",
        "print(device_lib.list_local_devices())"
      ]
    },
    {
      "cell_type": "markdown",
      "metadata": {
        "id": "0tOr0nl_Nyd0"
      },
      "source": [
        "### Domyślne rozmieszczenie"
      ]
    },
    {
      "cell_type": "code",
      "execution_count": null,
      "metadata": {
        "colab": {
          "base_uri": "https://localhost:8080/"
        },
        "id": "yPSBbHH8Nyd0",
        "outputId": "ef07f163-5fa8-42ca-c41a-932232b8eed3"
      },
      "outputs": [
        {
          "output_type": "stream",
          "name": "stdout",
          "text": [
            "Device mapping:\n",
            "/job:localhost/replica:0/task:0/device:GPU:0 -> device: 0, name: Tesla T4, pci bus id: 0000:00:04.0, compute capability: 7.5\n",
            "\n",
            "wyjście [0.         0.3        0.6        0.90000004]\n"
          ]
        }
      ],
      "source": [
        "from tensorflow.python.framework import ops\n",
        "ops.reset_default_graph()\n",
        "\n",
        "# Definiowanie parametrów modelu\n",
        "w = tf.Variable([.3], tf.float32)\n",
        "b = tf.Variable([-.3], tf.float32)\n",
        "# Definiowanie wejścia i wyjścia modelu\n",
        "x = tf.compat.v1.placeholder(tf.float32)\n",
        "y = w * x + b\n",
        "\n",
        "config = tf.compat.v1.ConfigProto()\n",
        "config.log_device_placement = True\n",
        "\n",
        "with tf.compat.v1.Session(config=config) as sess:\n",
        "    # inicjacja i wydruk zmiennej y\n",
        "    sess.run(tf.compat.v1.global_variables_initializer())\n",
        "    print('wyjście', sess.run(y, {x: [1, 2, 3, 4]}))"
      ]
    },
    {
      "cell_type": "markdown",
      "metadata": {
        "id": "39VXxpQrNyd0"
      },
      "source": [
        "### Rozmieszczanie na CPU"
      ]
    },
    {
      "cell_type": "code",
      "execution_count": null,
      "metadata": {
        "colab": {
          "base_uri": "https://localhost:8080/"
        },
        "id": "gtweFqOXNyd0",
        "outputId": "cd4225cf-51b0-4422-ca39-f19f2c52030a"
      },
      "outputs": [
        {
          "output_type": "stream",
          "name": "stdout",
          "text": [
            "Device mapping:\n",
            "/job:localhost/replica:0/task:0/device:GPU:0 -> device: 0, name: Tesla T4, pci bus id: 0000:00:04.0, compute capability: 7.5\n",
            "\n",
            "wyjście [0.         0.3        0.6        0.90000004]\n"
          ]
        }
      ],
      "source": [
        "ops.reset_default_graph()\n",
        "\n",
        "with tf.device('/device:CPU:0'):\n",
        "    # Definiowanie parametrów modelu\n",
        "    w = tf.Variable([.3], tf.float32)\n",
        "    b = tf.Variable([-.3], tf.float32)\n",
        "    # Definiowanie wejścia i wyjścia modelu\n",
        "    x = tf.compat.v1.placeholder(tf.float32)\n",
        "    y = w * x + b\n",
        "\n",
        "    config = tf.compat.v1.ConfigProto()\n",
        "    config.log_device_placement = True\n",
        "\n",
        "    with tf.compat.v1.Session(config=config) as sess:\n",
        "        # inicjacja i wydruk zmiennej y\n",
        "        sess.run(tf.compat.v1.global_variables_initializer())\n",
        "        print('wyjście', sess.run(y, {x: [1, 2, 3, 4]}))"
      ]
    },
    {
      "cell_type": "markdown",
      "metadata": {
        "id": "SJAp1H9fNyd0"
      },
      "source": [
        "### Rozmieszczanie na CPU i GPU"
      ]
    },
    {
      "cell_type": "code",
      "execution_count": null,
      "metadata": {
        "colab": {
          "base_uri": "https://localhost:8080/"
        },
        "id": "4YtQTcrkNyd0",
        "outputId": "fe43e014-63fa-41bd-e946-6df6ca1ec2e9"
      },
      "outputs": [
        {
          "output_type": "stream",
          "name": "stdout",
          "text": [
            "Device mapping:\n",
            "/job:localhost/replica:0/task:0/device:GPU:0 -> device: 0, name: Tesla T4, pci bus id: 0000:00:04.0, compute capability: 7.5\n",
            "\n",
            "wyjście [0.         0.3        0.6        0.90000004]\n"
          ]
        }
      ],
      "source": [
        "ops.reset_default_graph()\n",
        "\n",
        "with tf.device('/device:CPU:0'):\n",
        "    # Definiowanie parametrów modelu\n",
        "    w = tf.Variable([.3], tf.float32)\n",
        "    b = tf.Variable([-.3], tf.float32)\n",
        "    # Definiowanie wejścia i wyjścia modelu\n",
        "    x = tf.compat.v1.placeholder(tf.float32)\n",
        "with tf.device('/device:GPU:0'):\n",
        "    y = w * x + b\n",
        "\n",
        "config = tf.compat.v1.ConfigProto()\n",
        "config.log_device_placement = True\n",
        "\n",
        "with tf.compat.v1.Session(config=config) as sess:\n",
        "    # inicjacja i wydruk zmiennej y\n",
        "    sess.run(tf.compat.v1.global_variables_initializer())\n",
        "    print('wyjście', sess.run(y, {x: [1, 2, 3, 4]}))"
      ]
    },
    {
      "cell_type": "markdown",
      "metadata": {
        "id": "lHA1ttkxNyd0"
      },
      "source": [
        "## Wykonywanie grafu g jako domyślnego"
      ]
    },
    {
      "cell_type": "code",
      "execution_count": null,
      "metadata": {
        "colab": {
          "base_uri": "https://localhost:8080/"
        },
        "id": "agSqxVc0Nyd0",
        "outputId": "596ae1bc-9665-4408-c8a8-c4f7c6713e70"
      },
      "outputs": [
        {
          "output_type": "stream",
          "name": "stdout",
          "text": [
            "wyjście :  [0.         0.3        0.6        0.90000004]\n"
          ]
        }
      ],
      "source": [
        "g = tf.Graph()\n",
        "output = 0\n",
        "\n",
        "# Przyjmujemy model liniowy y = w * x + b\n",
        "\n",
        "with g.as_default():\n",
        "    # Definiowanie parametrów modelu\n",
        "    w = tf.Variable([.3], tf.float32)\n",
        "    b = tf.Variable([-.3], tf.float32)\n",
        "    # Definiowanie wejścia i wyjścia modelu\n",
        "    x = tf.compat.v1.placeholder(tf.float32)\n",
        "    y = w * x + b\n",
        "\n",
        "with tf.compat.v1.Session(graph=g) as sess:\n",
        "    # Inicjacja i wydruk zmiennej y\n",
        "    tf.compat.v1.global_variables_initializer().run()\n",
        "    output = sess.run(y, {x: [1, 2, 3, 4]})\n",
        "\n",
        "print('wyjście : ', output)"
      ]
    },
    {
      "cell_type": "markdown",
      "metadata": {
        "id": "tJGU10U-Nyd0"
      },
      "source": [
        "# Regresja logistyczna z TensorFlow\n",
        "\n",
        "### UWAGA! Konieczne ponowne uruchomienie środowiska ze względu na korzystanie z eager mode wyłączonym wcześniej!"
      ]
    },
    {
      "cell_type": "markdown",
      "source": [
        "## Przygotowanie danych"
      ],
      "metadata": {
        "id": "OYwd87u-OxQq"
      }
    },
    {
      "cell_type": "code",
      "execution_count": null,
      "metadata": {
        "colab": {
          "base_uri": "https://localhost:8080/"
        },
        "id": "01VmPIsPNyd0",
        "outputId": "941ef40e-6666-40ba-c533-e469340ad93c"
      },
      "outputs": [
        {
          "output_type": "stream",
          "name": "stdout",
          "text": [
            "Downloading data from https://storage.googleapis.com/tensorflow/tf-keras-datasets/mnist.npz\n",
            "11490434/11490434 [==============================] - 0s 0us/step\n",
            "Wczytane x i y\n",
            "Szkolenie: x:60000, y:(60000,)\n",
            "Test: x:(10000, 28, 28), y:(10000,)\n",
            "[[  0   0   0   0   0   0   0   0   0   0   0   0   0   0   0   0   0   0\n",
            "    0   0   0   0   0   0   0   0   0   0]\n",
            " [  0   0   0   0   0   0   0   0   0   0   0   0   0   0   0   0   0   0\n",
            "    0   0   0   0   0   0   0   0   0   0]\n",
            " [  0   0   0   0   0   0   0   0   0   0   0   0   0   0   0   0   0   0\n",
            "    0   0   0   0   0   0   0   0   0   0]\n",
            " [  0   0   0   0   0   0   0   0   0   0   0   0   0   0   0   0   0   0\n",
            "    0   0   0   0   0   0   0   0   0   0]\n",
            " [  0   0   0   0   0   0   0   0   0   0   0   0   0   0   0   0   0   0\n",
            "    0   0   0   0   0   0   0   0   0   0]\n",
            " [  0   0   0   0   0   0   0   0   0   0   0   0   3  18  18  18 126 136\n",
            "  175  26 166 255 247 127   0   0   0   0]\n",
            " [  0   0   0   0   0   0   0   0  30  36  94 154 170 253 253 253 253 253\n",
            "  225 172 253 242 195  64   0   0   0   0]\n",
            " [  0   0   0   0   0   0   0  49 238 253 253 253 253 253 253 253 253 251\n",
            "   93  82  82  56  39   0   0   0   0   0]\n",
            " [  0   0   0   0   0   0   0  18 219 253 253 253 253 253 198 182 247 241\n",
            "    0   0   0   0   0   0   0   0   0   0]\n",
            " [  0   0   0   0   0   0   0   0  80 156 107 253 253 205  11   0  43 154\n",
            "    0   0   0   0   0   0   0   0   0   0]\n",
            " [  0   0   0   0   0   0   0   0   0  14   1 154 253  90   0   0   0   0\n",
            "    0   0   0   0   0   0   0   0   0   0]\n",
            " [  0   0   0   0   0   0   0   0   0   0   0 139 253 190   2   0   0   0\n",
            "    0   0   0   0   0   0   0   0   0   0]\n",
            " [  0   0   0   0   0   0   0   0   0   0   0  11 190 253  70   0   0   0\n",
            "    0   0   0   0   0   0   0   0   0   0]\n",
            " [  0   0   0   0   0   0   0   0   0   0   0   0  35 241 225 160 108   1\n",
            "    0   0   0   0   0   0   0   0   0   0]\n",
            " [  0   0   0   0   0   0   0   0   0   0   0   0   0  81 240 253 253 119\n",
            "   25   0   0   0   0   0   0   0   0   0]\n",
            " [  0   0   0   0   0   0   0   0   0   0   0   0   0   0  45 186 253 253\n",
            "  150  27   0   0   0   0   0   0   0   0]\n",
            " [  0   0   0   0   0   0   0   0   0   0   0   0   0   0   0  16  93 252\n",
            "  253 187   0   0   0   0   0   0   0   0]\n",
            " [  0   0   0   0   0   0   0   0   0   0   0   0   0   0   0   0   0 249\n",
            "  253 249  64   0   0   0   0   0   0   0]\n",
            " [  0   0   0   0   0   0   0   0   0   0   0   0   0   0  46 130 183 253\n",
            "  253 207   2   0   0   0   0   0   0   0]\n",
            " [  0   0   0   0   0   0   0   0   0   0   0   0  39 148 229 253 253 253\n",
            "  250 182   0   0   0   0   0   0   0   0]\n",
            " [  0   0   0   0   0   0   0   0   0   0  24 114 221 253 253 253 253 201\n",
            "   78   0   0   0   0   0   0   0   0   0]\n",
            " [  0   0   0   0   0   0   0   0  23  66 213 253 253 253 253 198  81   2\n",
            "    0   0   0   0   0   0   0   0   0   0]\n",
            " [  0   0   0   0   0   0  18 171 219 253 253 253 253 195  80   9   0   0\n",
            "    0   0   0   0   0   0   0   0   0   0]\n",
            " [  0   0   0   0  55 172 226 253 253 253 253 244 133  11   0   0   0   0\n",
            "    0   0   0   0   0   0   0   0   0   0]\n",
            " [  0   0   0   0 136 253 253 253 212 135 132  16   0   0   0   0   0   0\n",
            "    0   0   0   0   0   0   0   0   0   0]\n",
            " [  0   0   0   0   0   0   0   0   0   0   0   0   0   0   0   0   0   0\n",
            "    0   0   0   0   0   0   0   0   0   0]\n",
            " [  0   0   0   0   0   0   0   0   0   0   0   0   0   0   0   0   0   0\n",
            "    0   0   0   0   0   0   0   0   0   0]\n",
            " [  0   0   0   0   0   0   0   0   0   0   0   0   0   0   0   0   0   0\n",
            "    0   0   0   0   0   0   0   0   0   0]]\n"
          ]
        }
      ],
      "source": [
        "import tensorflow as tf\n",
        "from keras.datasets import mnist\n",
        "import numpy as np\n",
        "\n",
        "# Przygotuj dane x i y\n",
        "\n",
        "(x_train,y_train), (x_test,y_test)=mnist.load_data()\n",
        "\n",
        "print('Wczytane x i y')\n",
        "print('Szkolenie: x:{}, y:{}'.format(len(x_train),y_train.shape))\n",
        "print('Test: x:{}, y:{}'.format(x_test.shape,y_test.shape))\n",
        "print(x_train[0])"
      ]
    },
    {
      "cell_type": "code",
      "execution_count": null,
      "metadata": {
        "id": "tlH3lc10Nyd1"
      },
      "outputs": [],
      "source": [
        "# Ładowanie danych\n",
        "(x_train, y_train), (x_test, y_test) = mnist.load_data()\n",
        "\n",
        "# Konwersja na float32\n",
        "x_train, x_test = np.array(x_train, np.float32), np.array(x_test, np.float32)\n",
        "\n",
        "# Spłaszczenie zdjęć do jednowymiarowego wektora o 784 pikselach (28x28).\n",
        "x_train, x_test = x_train.reshape([-1, 784]), x_test.reshape([-1, 784])\n",
        "\n",
        "# Normalizacja wartości z [0, 255] na [0, 1].\n",
        "x_train, x_test = x_train / 255., x_test / 255."
      ]
    },
    {
      "cell_type": "markdown",
      "source": [
        "## Dzielenie danych na batche"
      ],
      "metadata": {
        "id": "2B4Bq2JgO0wS"
      }
    },
    {
      "cell_type": "code",
      "source": [
        "# Parametry MNIST\n",
        "\n",
        "num_classes = 10 # 0 to 9 digits\n",
        "\n",
        "num_features = 784 # 28*28\n",
        "\n",
        "# Parametry trenowania\n",
        "\n",
        "learning_rate = 0.01\n",
        "\n",
        "training_steps = 1000\n",
        "\n",
        "batch_size = 256\n",
        "\n",
        "display_step = 5"
      ],
      "metadata": {
        "id": "NqAQyCyVO30y"
      },
      "execution_count": null,
      "outputs": []
    },
    {
      "cell_type": "code",
      "source": [
        "train_data=tf.data.Dataset.from_tensor_slices((x_train,y_train))\n",
        "\n",
        "train_data=train_data.repeat().shuffle(5000).batch(batch_size).prefetch(1)"
      ],
      "metadata": {
        "id": "6HdLvVA-ZQUd"
      },
      "execution_count": null,
      "outputs": []
    },
    {
      "cell_type": "markdown",
      "source": [
        "## Budowanie modelu"
      ],
      "metadata": {
        "id": "jsy3kWbWO_pL"
      }
    },
    {
      "cell_type": "code",
      "source": [
        "# Wagi o rozmiarze [784, 10]\n",
        "W = tf.Variable(tf.ones([num_features, num_classes]), tf.float32, name=\"weight\")\n",
        "\n",
        "# Bias o rozmiarze [10]\n",
        "\n",
        "b = tf.Variable(tf.zeros([num_classes]), tf.float32, name=\"bias\")"
      ],
      "metadata": {
        "id": "4Na4Rn_jO-ng"
      },
      "execution_count": null,
      "outputs": []
    },
    {
      "cell_type": "markdown",
      "source": [
        "## Funkcja straty i regresji logistycznej"
      ],
      "metadata": {
        "id": "QYB6I56GPD-S"
      }
    },
    {
      "cell_type": "code",
      "source": [
        "def cross_entropy(y_pred, y_true):\n",
        "    # Enkodowanie etykiet\n",
        "    y_true = tf.one_hot(y_true, depth=num_classes)\n",
        "    \n",
        "    # W celu uniknięcia wartości zerowych zamieniamy małe wartości na 1\n",
        "    y_pred = tf.clip_by_value(y_pred, 1e-9, 1.)\n",
        "    \n",
        "    # Liczenie entropii \n",
        "    return tf.reduce_mean(-tf.reduce_sum(y_true * tf.math.log(y_pred),1))\n",
        "\n",
        "\n",
        "def logistic_regression(x):\n",
        "\n",
        "    # Zastosujemy softmax do normalizacji wyników do rozkładu prawdopodobieństwa.\n",
        "    return tf.nn.softmax(tf.matmul(x, W) + b)"
      ],
      "metadata": {
        "id": "fKrxbGa-POcW"
      },
      "execution_count": null,
      "outputs": []
    },
    {
      "cell_type": "markdown",
      "source": [
        "## Funkcja dokładności i optymalizator"
      ],
      "metadata": {
        "id": "1sSeCatHde2v"
      }
    },
    {
      "cell_type": "code",
      "source": [
        "def accuracy(y_pred, y_true):\n",
        "\n",
        "  # Klasa przewidywana to indeks najwyższego wyniku w wektorze predykcji (czyli argmax)\n",
        "\n",
        "  correct_prediction = tf.equal(tf.argmax(y_pred, 1), tf.cast(y_true, tf.int64))\n",
        "\n",
        "  return tf.reduce_mean(tf.cast(correct_prediction, tf.float32))\n",
        "\n",
        "# Optymalizator SGD\n",
        "\n",
        "optimizer = tf.optimizers.SGD(learning_rate)"
      ],
      "metadata": {
        "id": "siRbYi5VT84K"
      },
      "execution_count": null,
      "outputs": []
    },
    {
      "cell_type": "markdown",
      "source": [
        "## Trenowanie modelu"
      ],
      "metadata": {
        "id": "dd3oDoS5QCJZ"
      }
    },
    {
      "cell_type": "code",
      "source": [
        "# Proces optymalizacji\n",
        "\n",
        "def run_optimization(x, y):\n",
        "\n",
        "    with tf.GradientTape() as g:\n",
        "        \n",
        "        pred = logistic_regression(x)\n",
        "        \n",
        "        loss = cross_entropy(pred, y)\n",
        "\n",
        "    # Obliczanie gradientów\n",
        "\n",
        "    gradients = g.gradient(loss, [W, b])\n",
        "\n",
        "    # Aktualizacja wag i biasów\n",
        "\n",
        "    optimizer.apply_gradients(zip(gradients, [W, b]))"
      ],
      "metadata": {
        "id": "awyeZpVVQD92"
      },
      "execution_count": null,
      "outputs": []
    },
    {
      "cell_type": "code",
      "source": [
        "# Rozpoczęcie trenowania dla danej ilości epok\n",
        "\n",
        "for step, (batch_x, batch_y) in enumerate(train_data.take(training_steps), 1):\n",
        "\n",
        "    run_optimization(batch_x, batch_y)\n",
        "\n",
        "    #Obliczanie parametrów dla każdej epoki\n",
        "\n",
        "    if step % display_step == 0:\n",
        "\n",
        "        pred = logistic_regression(batch_x)\n",
        "\n",
        "        loss = cross_entropy(pred, batch_y)\n",
        "\n",
        "        acc = accuracy(pred, batch_y)\n",
        "\n",
        "        print(\"step: %i, loss: %f, accuracy: %f\" % (step, loss, acc))"
      ],
      "metadata": {
        "id": "iSIjrSdaeM6-"
      },
      "execution_count": null,
      "outputs": []
    },
    {
      "cell_type": "code",
      "source": [
        "print(W[280])"
      ],
      "metadata": {
        "colab": {
          "base_uri": "https://localhost:8080/"
        },
        "id": "Gd3DN_qe7tVF",
        "outputId": "a4332bc2-ad36-4a24-b3fc-fe26c7fb769d"
      },
      "execution_count": null,
      "outputs": [
        {
          "output_type": "stream",
          "name": "stdout",
          "text": [
            "tf.Tensor(\n",
            "[0.9999926  0.9999944  0.9999932  0.9999879  0.9999781  0.99998885\n",
            " 0.99999154 1.0001172  0.99999005 0.99996656], shape=(10,), dtype=float32)\n"
          ]
        }
      ]
    },
    {
      "cell_type": "code",
      "source": [
        "# Testowanie modelu\n",
        "pred = logistic_regression(x_test)\n",
        "\n",
        "print(\"Test Accuracy: %f\" % accuracy(pred, y_test))"
      ],
      "metadata": {
        "colab": {
          "base_uri": "https://localhost:8080/"
        },
        "id": "MDSuBlyKQM1P",
        "outputId": "16c4dad3-d19c-4350-f6ca-d9b9b5793882"
      },
      "execution_count": null,
      "outputs": [
        {
          "output_type": "stream",
          "name": "stdout",
          "text": [
            "Test Accuracy: 0.870500\n"
          ]
        }
      ]
    },
    {
      "cell_type": "markdown",
      "metadata": {
        "id": "9au8hVuNNyd1"
      },
      "source": [
        "# Regresja logistyczna z Keras"
      ]
    },
    {
      "cell_type": "code",
      "execution_count": null,
      "metadata": {
        "id": "rp5st90rNyd1",
        "colab": {
          "base_uri": "https://localhost:8080/"
        },
        "outputId": "f7966315-fae1-44a3-ba9c-91bb94dfcacf"
      },
      "outputs": [
        {
          "output_type": "stream",
          "name": "stdout",
          "text": [
            "Epoch 1/15\n",
            "1875/1875 [==============================] - 13s 6ms/step - loss: 0.7790 - accuracy: 0.8163\n",
            "Epoch 2/15\n",
            "1875/1875 [==============================] - 5s 3ms/step - loss: 0.4542 - accuracy: 0.8812\n",
            "Epoch 3/15\n",
            "1875/1875 [==============================] - 3s 2ms/step - loss: 0.4021 - accuracy: 0.8919\n",
            "Epoch 4/15\n",
            "1875/1875 [==============================] - 3s 2ms/step - loss: 0.3761 - accuracy: 0.8969\n",
            "Epoch 5/15\n",
            "1875/1875 [==============================] - 3s 2ms/step - loss: 0.3595 - accuracy: 0.9011\n",
            "Epoch 6/15\n",
            "1875/1875 [==============================] - 3s 2ms/step - loss: 0.3479 - accuracy: 0.9037\n",
            "Epoch 7/15\n",
            "1875/1875 [==============================] - 3s 2ms/step - loss: 0.3389 - accuracy: 0.9058\n",
            "Epoch 8/15\n",
            "1875/1875 [==============================] - 3s 2ms/step - loss: 0.3319 - accuracy: 0.9080\n",
            "Epoch 9/15\n",
            "1875/1875 [==============================] - 3s 2ms/step - loss: 0.3261 - accuracy: 0.9093\n",
            "Epoch 10/15\n",
            "1875/1875 [==============================] - 3s 2ms/step - loss: 0.3212 - accuracy: 0.9104\n",
            "Epoch 11/15\n",
            "1875/1875 [==============================] - 5s 3ms/step - loss: 0.3171 - accuracy: 0.9115\n",
            "Epoch 12/15\n",
            "1875/1875 [==============================] - 3s 2ms/step - loss: 0.3133 - accuracy: 0.9129\n",
            "Epoch 13/15\n",
            "1875/1875 [==============================] - 3s 2ms/step - loss: 0.3102 - accuracy: 0.9131\n",
            "Epoch 14/15\n",
            "1875/1875 [==============================] - 3s 2ms/step - loss: 0.3073 - accuracy: 0.9140\n",
            "Epoch 15/15\n",
            "1875/1875 [==============================] - 3s 2ms/step - loss: 0.3047 - accuracy: 0.9150\n",
            "313/313 [==============================] - 1s 2ms/step - loss: 0.2947 - accuracy: 0.9177\n"
          ]
        },
        {
          "output_type": "execute_result",
          "data": {
            "text/plain": [
              "[0.2946564555168152, 0.9176999926567078]"
            ]
          },
          "metadata": {},
          "execution_count": 2
        }
      ],
      "source": [
        "(x_train,y_train), (x_test,y_test) = mnist.load_data()\n",
        "\n",
        "mnist.y_onehot = True\n",
        "\n",
        "x_train, x_test = x_train / 255.0, x_test / 255.0\n",
        "\n",
        "model = tf.keras.models.Sequential([\n",
        "  tf.keras.layers.Flatten(),\n",
        "  tf.keras.layers.Dense(10, activation=tf.nn.softmax)\n",
        "])\n",
        "model.compile(optimizer='sgd',\n",
        "              loss='sparse_categorical_crossentropy',\n",
        "              metrics=['accuracy'])\n",
        "\n",
        "model.fit(x_train, y_train, epochs=15)\n",
        "\n",
        "model.evaluate(x_test, y_test)"
      ]
    }
  ],
  "metadata": {
    "kernelspec": {
      "display_name": "Python 3 (ipykernel)",
      "language": "python",
      "name": "python3"
    },
    "language_info": {
      "codemirror_mode": {
        "name": "ipython",
        "version": 3
      },
      "file_extension": ".py",
      "mimetype": "text/x-python",
      "name": "python",
      "nbconvert_exporter": "python",
      "pygments_lexer": "ipython3",
      "version": "3.9.7"
    },
    "toc": {
      "base_numbering": 1,
      "nav_menu": {
        "height": "306px",
        "width": "240px"
      },
      "number_sections": true,
      "sideBar": true,
      "skip_h1_title": false,
      "title_cell": "Spis treści",
      "title_sidebar": "Zawartość",
      "toc_cell": true,
      "toc_position": {},
      "toc_section_display": "block",
      "toc_window_display": true
    },
    "colab": {
      "provenance": [],
      "include_colab_link": true
    },
    "gpuClass": "standard"
  },
  "nbformat": 4,
  "nbformat_minor": 0
}