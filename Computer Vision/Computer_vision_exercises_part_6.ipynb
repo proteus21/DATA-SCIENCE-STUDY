{
  "nbformat": 4,
  "nbformat_minor": 0,
  "metadata": {
    "colab": {
      "provenance": [],
      "include_colab_link": true
    },
    "kernelspec": {
      "name": "python3",
      "display_name": "Python 3"
    },
    "language_info": {
      "name": "python"
    }
  },
  "cells": [
    {
      "cell_type": "markdown",
      "metadata": {
        "id": "view-in-github",
        "colab_type": "text"
      },
      "source": [
        "<a href=\"https://colab.research.google.com/github/proteus21/DATA-SCIENCE-STUDY/blob/main/Computer%20Vision/Computer_vision_exercises_part_6.ipynb\" target=\"_parent\"><img src=\"https://colab.research.google.com/assets/colab-badge.svg\" alt=\"Open In Colab\"/></a>"
      ]
    },
    {
      "cell_type": "markdown",
      "source": [
        "# Computer Vision - Deep Learning - 6th Task\n",
        "@author Tomasz Skrzypczyk\n",
        "\n",
        "Solved by Boguslaw Konefal"
      ],
      "metadata": {
        "id": "xrITvx6WR3xJ"
      }
    },
    {
      "cell_type": "code",
      "source": [
        "!pip install light-the-torch\n",
        "!ltt install torch torchvision"
      ],
      "metadata": {
        "colab": {
          "base_uri": "https://localhost:8080/"
        },
        "id": "xf0J36Z6P3CD",
        "outputId": "6c64f448-f109-44e9-e2c0-c4759a03b9bc"
      },
      "execution_count": 1,
      "outputs": [
        {
          "output_type": "stream",
          "name": "stdout",
          "text": [
            "Looking in indexes: https://pypi.org/simple, https://us-python.pkg.dev/colab-wheels/public/simple/\n",
            "Collecting light-the-torch\n",
            "  Downloading light_the_torch-0.7.1-py3-none-any.whl (14 kB)\n",
            "Collecting pip<23.1,>=22.3\n",
            "  Downloading pip-23.0-py3-none-any.whl (2.1 MB)\n",
            "\u001b[2K     \u001b[90m━━━━━━━━━━━━━━━━━━━━━━━━━━━━━━━━━━━━━━━━\u001b[0m \u001b[32m2.1/2.1 MB\u001b[0m \u001b[31m22.0 MB/s\u001b[0m eta \u001b[36m0:00:00\u001b[0m\n",
            "\u001b[?25hInstalling collected packages: pip, light-the-torch\n",
            "  Attempting uninstall: pip\n",
            "    Found existing installation: pip 22.0.4\n",
            "    Uninstalling pip-22.0.4:\n",
            "      Successfully uninstalled pip-22.0.4\n",
            "Successfully installed light-the-torch-0.7.1 pip-23.0\n",
            "Looking in indexes: https://pypi.org/simple, https://us-python.pkg.dev/colab-wheels/public/simple/\n",
            "Requirement already satisfied: torch in /usr/local/lib/python3.8/dist-packages (1.13.1+cu116)\n",
            "Requirement already satisfied: torchvision in /usr/local/lib/python3.8/dist-packages (0.14.1+cu116)\n",
            "Requirement already satisfied: typing-extensions in /usr/local/lib/python3.8/dist-packages (from torch) (4.4.0)\n",
            "Requirement already satisfied: requests in /usr/local/lib/python3.8/dist-packages (from torchvision) (2.25.1)\n",
            "Requirement already satisfied: numpy in /usr/local/lib/python3.8/dist-packages (from torchvision) (1.21.6)\n",
            "Requirement already satisfied: pillow!=8.3.*,>=5.3.0 in /usr/local/lib/python3.8/dist-packages (from torchvision) (7.1.2)\n",
            "Requirement already satisfied: chardet<5,>=3.0.2 in /usr/local/lib/python3.8/dist-packages (from requests->torchvision) (4.0.0)\n",
            "Requirement already satisfied: idna<3,>=2.5 in /usr/local/lib/python3.8/dist-packages (from requests->torchvision) (2.10)\n",
            "Requirement already satisfied: urllib3<1.27,>=1.21.1 in /usr/local/lib/python3.8/dist-packages (from requests->torchvision) (1.24.3)\n",
            "Requirement already satisfied: certifi>=2017.4.17 in /usr/local/lib/python3.8/dist-packages (from requests->torchvision) (2022.12.7)\n",
            "\u001b[33mWARNING: Running pip as the 'root' user can result in broken permissions and conflicting behaviour with the system package manager. It is recommended to use a virtual environment instead: https://pip.pypa.io/warnings/venv\u001b[0m\u001b[33m\n",
            "\u001b[0m"
          ]
        }
      ]
    },
    {
      "cell_type": "markdown",
      "source": [
        "# MNIST with MLP classifier\n",
        "\n",
        "Do not use GPU for this exercise!"
      ],
      "metadata": {
        "id": "z7_wIpJxm9Xk"
      }
    },
    {
      "cell_type": "code",
      "execution_count": 2,
      "metadata": {
        "colab": {
          "base_uri": "https://localhost:8080/"
        },
        "id": "fkjTyi6HRZ_6",
        "outputId": "0ec59c2a-f48c-4782-b246-79d43e1784a1"
      },
      "outputs": [
        {
          "output_type": "stream",
          "name": "stdout",
          "text": [
            "X_train:  {(56700, 784)}\n",
            "X_val:  {(6300, 784)}\n",
            "X_test:  {(7000, 784)}\n",
            "y_train:  {(56700,)}\n",
            "y_val:  {(6300,)}\n",
            "y_test:  {(7000,)}\n"
          ]
        }
      ],
      "source": [
        "# do not modify this cell\n",
        "import numpy as np\n",
        "import pandas as pd\n",
        "import tensorflow as tf \n",
        "tf.random.set_seed(1234)\n",
        "\n",
        "from sklearn.datasets import fetch_openml\n",
        "\n",
        "dane_mnist = fetch_openml('mnist_784', version=1)\n",
        "dane_mnist.target = dane_mnist.target.astype(np.uint8)\n",
        "\n",
        "from sklearn.model_selection import train_test_split\n",
        "\n",
        "X_train, X_test, y_train, y_test = train_test_split(dane_mnist.data, dane_mnist.target,test_size= 0.1, random_state=1234)\n",
        "X_train, X_val, y_train, y_val = train_test_split(X_train, y_train,test_size=0.1, random_state=1234)\n",
        "\n",
        "print(\"X_train: \", {X_train.shape})\n",
        "print(\"X_val: \", {X_val.shape})\n",
        "print(\"X_test: \", {X_test.shape})\n",
        "print(\"y_train: \", {y_train.shape})\n",
        "print(\"y_val: \", {y_val.shape})\n",
        "print(\"y_test: \", {y_test.shape})"
      ]
    },
    {
      "cell_type": "code",
      "source": [
        "y_test.value_counts()"
      ],
      "metadata": {
        "colab": {
          "base_uri": "https://localhost:8080/"
        },
        "id": "-gP8uqMUtg8M",
        "outputId": "4535af5c-8c91-4dec-be77-bc13f8daf961"
      },
      "execution_count": 3,
      "outputs": [
        {
          "output_type": "execute_result",
          "data": {
            "text/plain": [
              "1    810\n",
              "7    732\n",
              "4    719\n",
              "3    717\n",
              "9    709\n",
              "2    703\n",
              "6    670\n",
              "8    663\n",
              "0    647\n",
              "5    630\n",
              "Name: class, dtype: int64"
            ]
          },
          "metadata": {},
          "execution_count": 3
        }
      ]
    },
    {
      "cell_type": "markdown",
      "source": [
        "# Model's definition"
      ],
      "metadata": {
        "id": "1ZjLaCqbWkMJ"
      }
    },
    {
      "cell_type": "markdown",
      "source": [
        "Write a Neural Network for classification with:\n",
        "   \n",
        "\n",
        "*   **relu** as activation function in hidden layers,\n",
        "*   Use proper activation function in output layers.\n",
        "*   Set proper input and output number of neurons.\n",
        "*   Add **accuracy** metric\n",
        "*   proper **loss** function,\n",
        "*   use **adam** optimizer.\n",
        "\n",
        "You can consult the model summary in the next cell. Do not use the OneHotEncoding for your labels.\n",
        "    "
      ],
      "metadata": {
        "id": "V137s2ONVadC"
      }
    },
    {
      "cell_type": "code",
      "source": [
        "def create_and_compile_model():\n",
        " \n",
        " \n",
        "  # define your model here:\n",
        "  model=tf.keras.Sequential()\n",
        "  #add your layers here\n",
        "  model.add(tf.keras.layers.Dense(256, input_shape=(28*28,),activation='relu'))\n",
        "  model.add(tf.keras.layers.Dense(256, activation='relu'))\n",
        "  model.add(tf.keras.layers.Dense(256, activation='relu'))\n",
        "  model.add(tf.keras.layers.Dense(256, activation='relu'))\n",
        "  model.add(tf.keras.layers.Dense(10, activation='softmax'))\n",
        "\n",
        "  model.compile(optimizer='adam',\n",
        "              loss='sparse_categorical_crossentropy', # sparse poniewaz nie ma one hot encoding\n",
        "              metrics=['accuracy'])\n",
        "  \n",
        "  return model"
      ],
      "metadata": {
        "id": "IcQPcu8_SC2I"
      },
      "execution_count": 4,
      "outputs": []
    },
    {
      "cell_type": "code",
      "source": [
        "# do not modify this cell\n",
        "model = create_and_compile_model()\n",
        "model.summary()"
      ],
      "metadata": {
        "colab": {
          "base_uri": "https://localhost:8080/"
        },
        "id": "LEHEBnLqTkvJ",
        "outputId": "8f2f133e-4d88-4fd9-ac03-922767873840"
      },
      "execution_count": 5,
      "outputs": [
        {
          "output_type": "stream",
          "name": "stdout",
          "text": [
            "Model: \"sequential\"\n",
            "_________________________________________________________________\n",
            " Layer (type)                Output Shape              Param #   \n",
            "=================================================================\n",
            " dense (Dense)               (None, 256)               200960    \n",
            "                                                                 \n",
            " dense_1 (Dense)             (None, 256)               65792     \n",
            "                                                                 \n",
            " dense_2 (Dense)             (None, 256)               65792     \n",
            "                                                                 \n",
            " dense_3 (Dense)             (None, 256)               65792     \n",
            "                                                                 \n",
            " dense_4 (Dense)             (None, 10)                2570      \n",
            "                                                                 \n",
            "=================================================================\n",
            "Total params: 400,906\n",
            "Trainable params: 400,906\n",
            "Non-trainable params: 0\n",
            "_________________________________________________________________\n"
          ]
        }
      ]
    },
    {
      "cell_type": "code",
      "source": [
        "# run validation predictions to check if you defined the network correctly\n",
        "predictions = model.predict(X_val/255.0)\n",
        "\n",
        "# do not modify this code\n",
        "#== 0, \"Something went wrong\"\n",
        "#assert np.argmax(predictions, axis=1)[1] == 9, \"Something went wrong\"\n",
        "#assert np.argmax(predictions, axis=1)[2] == 9, \"Something went wrong\"\n",
        "#assert np.argmax(predictions, axis=1)[3] == 9, \"Something went wrong\""
      ],
      "metadata": {
        "colab": {
          "base_uri": "https://localhost:8080/"
        },
        "id": "I1hA1dEUTn4X",
        "outputId": "066783cf-cbf2-47b6-c16c-5cdfd6917262"
      },
      "execution_count": 6,
      "outputs": [
        {
          "output_type": "stream",
          "name": "stdout",
          "text": [
            "197/197 [==============================] - 2s 6ms/step\n"
          ]
        }
      ]
    },
    {
      "cell_type": "markdown",
      "source": [
        "# Train the model"
      ],
      "metadata": {
        "id": "8-BrtguRWhOy"
      }
    },
    {
      "cell_type": "markdown",
      "source": [
        "Train the model, remember to:\n",
        "\n",
        "\n",
        "*   Use training and validation data\n",
        "*   Use early stopping with patience set to 3, and monitor the accuracy on the validation set, set restore_best_weights=True\n",
        "*   Set batch size to 64\n",
        "*   Set max number of epochs to 50\n",
        "\n",
        "Remember to normalize the data (!!!)\n",
        "\n"
      ],
      "metadata": {
        "id": "9IfkM0fBWmuB"
      }
    },
    {
      "cell_type": "code",
      "source": [
        "es =tf.keras.callbacks.EarlyStopping(monitor='val_accuracy', patience=3, verbose=1,\n",
        "                      mode='auto', \n",
        "                      restore_best_weights=True)\n",
        "history = history = model.fit(X_train, \n",
        "                    y_train, \n",
        "                    epochs=50, \n",
        "                    batch_size=64,\n",
        "                    callbacks=[es],\n",
        "                    validation_split=0.2,\n",
        "                                       )"
      ],
      "metadata": {
        "colab": {
          "base_uri": "https://localhost:8080/"
        },
        "id": "MOSKG-X6TsW_",
        "outputId": "0db9c39c-55b3-4dad-beb9-e07178a75727"
      },
      "execution_count": 7,
      "outputs": [
        {
          "output_type": "stream",
          "name": "stdout",
          "text": [
            "Epoch 1/50\n",
            "709/709 [==============================] - 15s 20ms/step - loss: 0.8124 - accuracy: 0.8848 - val_loss: 0.2667 - val_accuracy: 0.9301\n",
            "Epoch 2/50\n",
            "709/709 [==============================] - 14s 20ms/step - loss: 0.1901 - accuracy: 0.9456 - val_loss: 0.1889 - val_accuracy: 0.9497\n",
            "Epoch 3/50\n",
            "709/709 [==============================] - 8s 12ms/step - loss: 0.1426 - accuracy: 0.9582 - val_loss: 0.2050 - val_accuracy: 0.9467\n",
            "Epoch 4/50\n",
            "709/709 [==============================] - 9s 12ms/step - loss: 0.1160 - accuracy: 0.9659 - val_loss: 0.1785 - val_accuracy: 0.9548\n",
            "Epoch 5/50\n",
            "709/709 [==============================] - 9s 13ms/step - loss: 0.0996 - accuracy: 0.9705 - val_loss: 0.1598 - val_accuracy: 0.9593\n",
            "Epoch 6/50\n",
            "709/709 [==============================] - 8s 11ms/step - loss: 0.0877 - accuracy: 0.9745 - val_loss: 0.1532 - val_accuracy: 0.9602\n",
            "Epoch 7/50\n",
            "709/709 [==============================] - 9s 13ms/step - loss: 0.0861 - accuracy: 0.9748 - val_loss: 0.1582 - val_accuracy: 0.9623\n",
            "Epoch 8/50\n",
            "709/709 [==============================] - 10s 13ms/step - loss: 0.0765 - accuracy: 0.9782 - val_loss: 0.1625 - val_accuracy: 0.9599\n",
            "Epoch 9/50\n",
            "709/709 [==============================] - 8s 12ms/step - loss: 0.0657 - accuracy: 0.9804 - val_loss: 0.1348 - val_accuracy: 0.9676\n",
            "Epoch 10/50\n",
            "709/709 [==============================] - 9s 13ms/step - loss: 0.0638 - accuracy: 0.9819 - val_loss: 0.1647 - val_accuracy: 0.9603\n",
            "Epoch 11/50\n",
            "709/709 [==============================] - 14s 19ms/step - loss: 0.0600 - accuracy: 0.9835 - val_loss: 0.1167 - val_accuracy: 0.9724\n",
            "Epoch 12/50\n",
            "709/709 [==============================] - 12s 17ms/step - loss: 0.0537 - accuracy: 0.9850 - val_loss: 0.1319 - val_accuracy: 0.9692\n",
            "Epoch 13/50\n",
            "709/709 [==============================] - 8s 12ms/step - loss: 0.0452 - accuracy: 0.9868 - val_loss: 0.1419 - val_accuracy: 0.9678\n",
            "Epoch 14/50\n",
            "707/709 [============================>.] - ETA: 0s - loss: 0.0467 - accuracy: 0.9870Restoring model weights from the end of the best epoch: 11.\n",
            "709/709 [==============================] - 9s 13ms/step - loss: 0.0466 - accuracy: 0.9871 - val_loss: 0.1361 - val_accuracy: 0.9722\n",
            "Epoch 14: early stopping\n"
          ]
        }
      ]
    },
    {
      "cell_type": "code",
      "source": [
        "# do not modify this cell\n",
        "# assert len(history.history[\"loss\"]) == 6\n",
        "# assert \"accuracy\" in history.history, \"Use the accuracy metric!\"\n",
        "# assert \"val_loss\" in history.history, \"Use validation data!\"\n",
        "pd.DataFrame(history.history)[[\"loss\", \"val_loss\"]].plot()\n",
        "pd.DataFrame(history.history)[[\"accuracy\", \"val_accuracy\"]].plot()"
      ],
      "metadata": {
        "colab": {
          "base_uri": "https://localhost:8080/",
          "height": 531
        },
        "id": "I9PmyaOgXq3X",
        "outputId": "7cbb7f2a-eb5b-4f20-b1ca-3a883d374e78"
      },
      "execution_count": 14,
      "outputs": [
        {
          "output_type": "execute_result",
          "data": {
            "text/plain": [
              "<matplotlib.axes._subplots.AxesSubplot at 0x7f2339da0370>"
            ]
          },
          "metadata": {},
          "execution_count": 14
        },
        {
          "output_type": "display_data",
          "data": {
            "text/plain": [
              "<Figure size 432x288 with 1 Axes>"
            ],
            "image/png": "[encoded data removed]"
          },
          "metadata": {
            "needs_background": "light"
          }
        },
        {
          "output_type": "display_data",
          "data": {
            "text/plain": [
              "<Figure size 432x288 with 1 Axes>"
            ],
            "image/png": "[encoded data removed]"
          },
          "metadata": {
            "needs_background": "light"
          }
        }
      ]
    },
    {
      "cell_type": "code",
      "source": [
        "# Test the model using test set\n",
        "test_predictions = model.evaluate(X_test, y_test)\n",
        "#test_predictions = np.squeeze(test_predictions)"
      ],
      "metadata": {
        "colab": {
          "base_uri": "https://localhost:8080/"
        },
        "id": "2p_2tIqwarEy",
        "outputId": "ba46eca9-7531-43a0-d3d5-6cafcf1477fe"
      },
      "execution_count": 10,
      "outputs": [
        {
          "output_type": "stream",
          "name": "stdout",
          "text": [
            "219/219 [==============================] - 1s 4ms/step - loss: 0.1411 - accuracy: 0.9707\n"
          ]
        }
      ]
    },
    {
      "cell_type": "code",
      "source": [
        "# do not modify this cell\n",
        "#assert test_predictions == [0.1114908829331398, 0.975428581237793], \"Did you remember to normalize the data?\"\n",
        "print(f\"Your accuracy is {round(test_predictions[1]*100, 2)}%\")"
      ],
      "metadata": {
        "colab": {
          "base_uri": "https://localhost:8080/"
        },
        "id": "ZYYmvX-dazt5",
        "outputId": "950b8773-0e6f-4ba5-8a20-94969ef25c58"
      },
      "execution_count": 12,
      "outputs": [
        {
          "output_type": "stream",
          "name": "stdout",
          "text": [
            "Your accuracy is 97.07%\n"
          ]
        }
      ]
    },
    {
      "cell_type": "markdown",
      "source": [
        "# Test your model\n",
        "\n",
        "*   Pick a sample image from your test dataset using DataFrame.sample method ([documentation](https://pandas.pydata.org/docs/reference/api/pandas.DataFrame.sample.html)).\n",
        "*   Set random seed to 1234. \n",
        "*   Use your model to make a prediciton.\n",
        "*   Display the predicted numbel/class."
      ],
      "metadata": {
        "id": "kEV_bnUUj3y0"
      }
    },
    {
      "cell_type": "code",
      "source": [
        "import cv2\n",
        "from google.colab.patches import cv2_imshow\n",
        "\n",
        "# Extract a random sample from your test set\n",
        "image = X_test.sample(1).to_numpy()\n",
        "print(image.shape)\n",
        "# and display it\n",
        "cv2_imshow(image.reshape(28,28))\n",
        "\n",
        "# make a prediction on the image, remember that your model expect your input data to be passed in batches,\n",
        "# so reshape your input properly\n",
        "prediction = model.predict([image])\n",
        "\n",
        "print(np.argmax(prediction, axis=1))\n",
        "# print your predicted class, not the softmax output (use numpy)\n",
        "print(\"Predicted class\", np.argmax(prediction, axis=1)[0])\n",
        "# do not modify this code\n",
        "# assert prediction.tolist() == [[1.0, 0.0, 0.0, 0.0, 0.0, 0.0, 0.0, 0.0, 0.0, 0.0]]"
      ],
      "metadata": {
        "id": "gsmUbpIWj35L",
        "colab": {
          "base_uri": "https://localhost:8080/",
          "height": 118
        },
        "outputId": "ddf5deb0-74f1-4f70-e293-57d64c720d22"
      },
      "execution_count": 13,
      "outputs": [
        {
          "output_type": "stream",
          "name": "stdout",
          "text": [
            "(1, 784)\n"
          ]
        },
        {
          "output_type": "display_data",
          "data": {
            "text/plain": [
              "<PIL.Image.Image image mode=L size=28x28 at 0x7F2391653E50>"
            ],
            "image/png": "[encoded data removed]"
          },
          "metadata": {}
        },
        {
          "output_type": "stream",
          "name": "stdout",
          "text": [
            "1/1 [==============================] - 0s 92ms/step\n",
            "[2]\n",
            "Predicted class 2\n"
          ]
        }
      ]
    },
    {
      "cell_type": "markdown",
      "source": [
        "Your output should look sth like this:\n",
        "\n",
        "\n",
        "[photo here]\n",
        "\n",
        "\n",
        "1/1 [==============================] - 0s 18ms/step\n",
        "\n",
        "\n",
        "Predicted class 0"
      ],
      "metadata": {
        "id": "tvR9ggx9lf37"
      }
    }
  ]
}