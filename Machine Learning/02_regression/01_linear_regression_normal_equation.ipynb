{
  "nbformat": 4,
  "nbformat_minor": 0,
  "metadata": {
    "colab": {
      "name": "01_linear_regression_normal_equation.ipynb",
      "provenance": [],
      "include_colab_link": true
    },
    "kernelspec": {
      "name": "python3",
      "display_name": "Python 3"
    }
  },
  "cells": [
    {
      "cell_type": "markdown",
      "metadata": {
        "id": "view-in-github",
        "colab_type": "text"
      },
      "source": [
        "<a href=\"https://colab.research.google.com/github/proteus21/DATA-SCIENCE-STUDY/blob/main/Machine%20Learning/02_regression/01_linear_regression_normal_equation.ipynb\" target=\"_parent\"><img src=\"https://colab.research.google.com/assets/colab-badge.svg\" alt=\"Open In Colab\"/></a>"
      ]
    },
    {
      "cell_type": "markdown",
      "metadata": {
        "id": "foUlrTWjZpzE"
      },
      "source": [
        "### scikit-learn\n",
        "Strona biblioteki: [https://scikit-learn.org](https://scikit-learn.org)  \n",
        "\n",
        "Dokumentacja/User Guide: [https://scikit-learn.org/stable/user_guide.html](https://scikit-learn.org/stable/user_guide.html)\n",
        "\n",
        "Podstawowa biblioteka do uczenia maszynowego w języku Python.\n",
        "\n",
        "Aby zainstalować bibliotekę scikit-learn, użyj polecenia poniżej:\n",
        "```\n",
        "!pip install scikit-learn\n",
        "```\n",
        "Aby zaktualizować do najnowszej wersji bibliotekę scikit-learn, użyj polecenia poniżej:\n",
        "```\n",
        "!pip install --upgrade scikit-learn\n",
        "```\n",
        "Kurs stworzony w oparciu o wersję `0.22.1`\n",
        "\n",
        "### Spis treści:\n",
        "1. [Import bibliotek](#0)\n",
        "2. [Przygotowanie danych](#1)\n",
        "3. [Równanie normalne](#2)\n",
        "4. [Regresja liniowa przy pomocy scikit-learn](#3)\n",
        "\n",
        "\n"
      ]
    },
    {
      "cell_type": "markdown",
      "metadata": {
        "id": "i4UpSSDvZz2v"
      },
      "source": [
        "### <a name='0'></a> Import bibliotek"
      ]
    },
    {
      "cell_type": "code",
      "metadata": {
        "id": "VQ0ieU0UdN5D"
      },
      "source": [
        "import numpy as np"
      ],
      "execution_count": null,
      "outputs": []
    },
    {
      "cell_type": "markdown",
      "metadata": {
        "id": "K6AR6Vofa2DK"
      },
      "source": [
        "### <a name='1'></a> Przygotowanie danych"
      ]
    },
    {
      "cell_type": "code",
      "metadata": {
        "id": "UDbWnF8rdceb",
        "colab": {
          "base_uri": "https://localhost:8080/",
          "height": 68
        },
        "outputId": "b4ce340e-8008-4206-fbaf-cc19172e07e6"
      },
      "source": [
        "X1 = np.array([1, 2, 3, 4, 5, 6])\n",
        "Y = np.array([3000, 3250, 3500, 3750, 4000, 4250])\n",
        "m = len(X1)\n",
        "\n",
        "print(f'Lata pracy: {X1}')\n",
        "print(f'Wynagrodzenie: {Y}')\n",
        "print(f'Liczba próbek: {m}')"
      ],
      "execution_count": null,
      "outputs": [
        {
          "output_type": "stream",
          "text": [
            "Lata pracy: [1 2 3 4 5 6]\n",
            "Wynagrodzenie: [3000 3250 3500 3750 4000 4250]\n",
            "Liczba próbek: 6\n"
          ],
          "name": "stdout"
        }
      ]
    },
    {
      "cell_type": "code",
      "metadata": {
        "id": "qCl-HE9pZDp7",
        "colab": {
          "base_uri": "https://localhost:8080/",
          "height": 137
        },
        "outputId": "6b8003f8-83c3-4918-e979-f575a70fced5"
      },
      "source": [
        "X1 = X1.reshape(m, 1) #zmiana rozmiaru 6 wiersz i jedna kolumna\n",
        "print(X1)\n",
        "print(X1.shape)"
      ],
      "execution_count": null,
      "outputs": [
        {
          "output_type": "stream",
          "text": [
            "[[1]\n",
            " [2]\n",
            " [3]\n",
            " [4]\n",
            " [5]\n",
            " [6]]\n",
            "(6, 1)\n"
          ],
          "name": "stdout"
        }
      ]
    },
    {
      "cell_type": "code",
      "metadata": {
        "id": "1J5bEXehZPVO",
        "colab": {
          "base_uri": "https://localhost:8080/",
          "height": 137
        },
        "outputId": "f4eacfe5-e11f-437b-d528-52984cee59c9"
      },
      "source": [
        "bias = np.ones((m, 1)) # wygenerujemy wektor wyrazow wolnych\n",
        "print(bias)\n",
        "print(bias.shape)"
      ],
      "execution_count": null,
      "outputs": [
        {
          "output_type": "stream",
          "text": [
            "[[1.]\n",
            " [1.]\n",
            " [1.]\n",
            " [1.]\n",
            " [1.]\n",
            " [1.]]\n",
            "(6, 1)\n"
          ],
          "name": "stdout"
        }
      ]
    },
    {
      "cell_type": "code",
      "metadata": {
        "id": "25475QsYZznI",
        "colab": {
          "base_uri": "https://localhost:8080/",
          "height": 137
        },
        "outputId": "e91bc128-d230-47cc-dbe7-736feb2e1924"
      },
      "source": [
        "X = np.append(bias, X1, axis=1) # wektor wyrazow wolnych dodamy do kolumny X1\n",
        "print(X)\n",
        "print(X.shape)"
      ],
      "execution_count": null,
      "outputs": [
        {
          "output_type": "stream",
          "text": [
            "[[1. 1.]\n",
            " [1. 2.]\n",
            " [1. 3.]\n",
            " [1. 4.]\n",
            " [1. 5.]\n",
            " [1. 6.]]\n",
            "(6, 2)\n"
          ],
          "name": "stdout"
        }
      ]
    },
    {
      "cell_type": "markdown",
      "metadata": {
        "id": "UbjsT92Xd3z1"
      },
      "source": [
        "### <a name='2'></a> Równanie normalne\n",
        "\n",
        "Regresja liniowa w $R^2$:\n",
        "$$Y = w_0 + w_1X_1$$\n",
        "$$Y = W^TX$$\n",
        "gdzie: $$W= \\left[\\begin{matrix}w_0\\\\w_1\\end{matrix}\\right]$$ $$ X= \\left[\\begin{matrix}1\\\\X_1\\end{matrix}\\right] $$ stąd $$ W^T= \\left[\\begin{matrix}w_0&w_1\\end{matrix}\\right] $$    \n",
        "$$Y = W^TX = \\left[\\begin{matrix}w_0&w_1\\end{matrix}\\right] \\cdot  \\left[\\begin{matrix}1\\\\X_1\\end{matrix}\\right] = w_0 + w_1X_1$$\n",
        "\n",
        "Równanie normalne - równanie pozwalające obliczyć minimum funkcji straty (o ile istnieje)\n",
        "$$W = (X^TX)^{-1}(X^TY)$$"
      ]
    },
    {
      "cell_type": "code",
      "metadata": {
        "id": "Y9VWdotwoJ74",
        "colab": {
          "base_uri": "https://localhost:8080/",
          "height": 51
        },
        "outputId": "d07a27fe-76c4-4e97-b8ab-6dead318f6ef"
      },
      "source": [
        "np.dot(X.T, X) # Transponowanie macierzy"
      ],
      "execution_count": null,
      "outputs": [
        {
          "output_type": "execute_result",
          "data": {
            "text/plain": [
              "array([[ 6., 21.],\n",
              "       [21., 91.]])"
            ]
          },
          "metadata": {
            "tags": []
          },
          "execution_count": 6
        }
      ]
    },
    {
      "cell_type": "code",
      "metadata": {
        "id": "Pzxu92NaaGaV",
        "colab": {
          "base_uri": "https://localhost:8080/",
          "height": 51
        },
        "outputId": "7f0e353d-5470-4df8-94dc-91d747795d19"
      },
      "source": [
        "L = np.linalg.inv(np.dot(X.T, X)) #macierz odwrotna\n",
        "L"
      ],
      "execution_count": null,
      "outputs": [
        {
          "output_type": "execute_result",
          "data": {
            "text/plain": [
              "array([[ 0.86666667, -0.2       ],\n",
              "       [-0.2       ,  0.05714286]])"
            ]
          },
          "metadata": {
            "tags": []
          },
          "execution_count": 7
        }
      ]
    },
    {
      "cell_type": "code",
      "metadata": {
        "id": "xXjqb8XPaaYK",
        "colab": {
          "base_uri": "https://localhost:8080/",
          "height": 34
        },
        "outputId": "193ca273-fc42-4a51-e703-34d278c2398d"
      },
      "source": [
        "P = np.dot(X.T, Y) #Transponowana macierz razy Y\n",
        "P"
      ],
      "execution_count": null,
      "outputs": [
        {
          "output_type": "execute_result",
          "data": {
            "text/plain": [
              "array([21750., 80500.])"
            ]
          },
          "metadata": {
            "tags": []
          },
          "execution_count": 8
        }
      ]
    },
    {
      "cell_type": "code",
      "metadata": {
        "id": "L0hewPqOae06",
        "colab": {
          "base_uri": "https://localhost:8080/",
          "height": 34
        },
        "outputId": "e690a55e-e973-4e81-c138-8448f7df8997"
      },
      "source": [
        "np.dot(L, P) #"
      ],
      "execution_count": null,
      "outputs": [
        {
          "output_type": "execute_result",
          "data": {
            "text/plain": [
              "array([2750.,  250.])"
            ]
          },
          "metadata": {
            "tags": []
          },
          "execution_count": 9
        }
      ]
    },
    {
      "cell_type": "markdown",
      "metadata": {
        "id": "kQt2Fsp4oPbO"
      },
      "source": [
        "Końcowa postać modelu$$Y = 2750 + 250X_1$$"
      ]
    },
    {
      "cell_type": "markdown",
      "metadata": {
        "id": "DGcZ1G0CbN6D"
      },
      "source": [
        "### <a name='3'></a> Regresja liniowa przy pomocy scikit-learn"
      ]
    },
    {
      "cell_type": "code",
      "metadata": {
        "id": "jDjBjL7noVGj",
        "colab": {
          "base_uri": "https://localhost:8080/",
          "height": 51
        },
        "outputId": "c0eb290a-3aac-4ce7-e0f9-0faabf06c3cc"
      },
      "source": [
        "from sklearn.linear_model import LinearRegression\n",
        "\n",
        "regression = LinearRegression()\n",
        "regression.fit(X1, Y)\n",
        "\n",
        "print(regression.intercept_)\n",
        "print(regression.coef_[0])"
      ],
      "execution_count": null,
      "outputs": [
        {
          "output_type": "stream",
          "text": [
            "2750.0\n",
            "250.0\n"
          ],
          "name": "stdout"
        }
      ]
    },
    {
      "cell_type": "code",
      "metadata": {
        "id": "bbqmRlfj0rbo"
      },
      "source": [],
      "execution_count": null,
      "outputs": []
    }
  ]
}