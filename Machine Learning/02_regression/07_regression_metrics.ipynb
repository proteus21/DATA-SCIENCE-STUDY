{
  "nbformat": 4,
  "nbformat_minor": 0,
  "metadata": {
    "colab": {
      "provenance": [],
      "authorship_tag": "ABX9TyOE9kKNA8FHfLyUpTv+f+lj",
      "include_colab_link": true
    },
    "kernelspec": {
      "name": "python3",
      "display_name": "Python 3"
    },
    "language_info": {
      "name": "python"
    }
  },
  "cells": [
    {
      "cell_type": "markdown",
      "metadata": {
        "id": "view-in-github",
        "colab_type": "text"
      },
      "source": [
        "<a href=\"https://colab.research.google.com/github/proteus21/DATA-SCIENCE-STUDY/blob/main/Machine%20Learning/02_regression/07_regression_metrics.ipynb\" target=\"_parent\"><img src=\"https://colab.research.google.com/assets/colab-badge.svg\" alt=\"Open In Colab\"/></a>"
      ]
    },
    {
      "cell_type": "markdown",
      "source": [
        "##To install scikit-learn library use command below\n",
        "\n",
        "Aby zainstalować bibliotekę scikit-learn, użyj polecenia poniżej:\n",
        "\n",
        "**!pip install scikit-learn**"
      ],
      "metadata": {
        "id": "fjevdq5765zo"
      }
    },
    {
      "cell_type": "markdown",
      "source": [
        "In order to update to newest scikit-learn library, use command below\n",
        "\n",
        "Aby zaktualizować do najnowszej wersji bibliotekę scikit-learn, użyj polecenia poniżej:\n",
        "\n",
        "**!pip install --upgrade scikit-learn**\n",
        "\n",
        "### Contenst:\n",
        "1. [Import library](#0)\n",
        "2. [Graph interpretation](#1)\n",
        "3. [Mean Absolute Error - MAE ](#2)\n",
        "4. [Mean Squared Error - MSE](#3)\n",
        "5. [Root Mean Squared Error - RMSE](#4)\n",
        "6. [Max Error](#5)\n",
        "7. [R2 scor](#6)\n",
        "\n",
        "\n",
        "\n",
        "### Spis treści:\n",
        "1. [Import bibliotek](#a0)\n",
        "2. [Interpretacja graficzna](#a2)\n",
        "3. [Mean Absolute Error - MAE - Średni błąd bezwzględny](#a3)\n",
        "4. [Mean Squared Error - MSE - Błąd średniokwadratowy](#a4)\n",
        "5. [Root Mean Squared Error - RMSE - Pierwiastek błędu średniokwadratowego](#a5)\n",
        "6. [Max Error - Błąd maksymalny](#a6)\n",
        "7. [R2 score - współczynnik determinacji](#a7)\n"
      ],
      "metadata": {
        "id": "blG0gEks68Rq"
      }
    },
    {
      "cell_type": "markdown",
      "source": [
        "\n",
        "\n",
        "---\n",
        "### <a name='0'></a> Import bibliotek / Import library\n",
        "\n",
        "\n"
      ],
      "metadata": {
        "id": "R_gG1AWy8njr"
      }
    },
    {
      "cell_type": "code",
      "source": [
        "import numpy as np\n",
        "import pandas as pd\n",
        "import plotly.express as px\n",
        "import plotly.graph_objects as go\n",
        "np.random.seed(42)\n",
        "import matplotlib.pyplot as plt\n"
      ],
      "metadata": {
        "id": "tOEJOWGH9AJD"
      },
      "execution_count": 18,
      "outputs": []
    },
    {
      "cell_type": "code",
      "source": [
        "y_true=100+20*np.random.randn(50)\n",
        "y_true"
      ],
      "metadata": {
        "colab": {
          "base_uri": "https://localhost:8080/"
        },
        "id": "WxDxZGZN96kR",
        "outputId": "9f119768-e096-40ee-910d-49ef055d73c4"
      },
      "execution_count": 4,
      "outputs": [
        {
          "output_type": "execute_result",
          "data": {
            "text/plain": [
              "array([109.93428306,  97.23471398, 112.95377076, 130.46059713,\n",
              "        95.31693251,  95.31726086, 131.58425631, 115.34869458,\n",
              "        90.61051228, 110.85120087,  90.73164614,  90.68540493,\n",
              "       104.83924543,  61.73439511,  65.50164335,  88.75424942,\n",
              "        79.74337759, 106.28494665,  81.83951849,  71.75392597,\n",
              "       129.31297538,  95.48447399, 101.35056409,  71.50503628,\n",
              "        89.11234551, 102.21845179,  76.98012845, 107.51396037,\n",
              "        87.9872262 ,  94.166125  ,  87.96586776, 137.04556369,\n",
              "        99.73005551,  78.84578142, 116.45089824,  75.583127  ,\n",
              "       104.1772719 ,  60.80659752,  73.43627902, 103.93722472,\n",
              "       114.7693316 , 103.42736562,  97.68703435,  93.97792609,\n",
              "        70.42956019,  85.60311583,  90.78722458, 121.14244452,\n",
              "       106.87236579,  64.73919689])"
            ]
          },
          "metadata": {},
          "execution_count": 4
        }
      ]
    },
    {
      "cell_type": "code",
      "source": [
        "y_pred=y_true+10*np.random.randn(50)\n",
        "y_pred"
      ],
      "metadata": {
        "colab": {
          "base_uri": "https://localhost:8080/"
        },
        "id": "x11chnGX96q7",
        "outputId": "f862fa45-e47e-4d3a-c840-5c958dda535a"
      },
      "execution_count": 5,
      "outputs": [
        {
          "output_type": "execute_result",
          "data": {
            "text/plain": [
              "array([113.17512275,  93.38389117, 106.18455076, 136.57736002,\n",
              "       105.62692773, 104.63006205, 123.19208108, 112.25657082,\n",
              "        93.9231466 , 120.60665214,  85.93990377,  88.82881516,\n",
              "        93.77589569,  49.77232887,  73.62690157, 102.3166497 ,\n",
              "        79.02327638, 116.32027563,  85.45587874,  65.30272843,\n",
              "       132.92693143, 110.86483965, 100.9923037 ,  87.15147283,\n",
              "        62.91489447, 110.43747684,  77.85059913, 104.52388686,\n",
              "        88.90483397,  74.29043586,  85.76914888, 140.61668941,\n",
              "       114.50899595,  73.66307924, 108.36596221,  70.56555656,\n",
              "       113.33129308,  64.09410862,  68.13867698, 109.06989905,\n",
              "       115.74010709, 113.11381553,  90.66650341,  90.70130462,\n",
              "        66.50847866,  70.96796635,  93.74842735, 123.75299725,\n",
              "       106.92350036,  62.39332556])"
            ]
          },
          "metadata": {},
          "execution_count": 5
        }
      ]
    },
    {
      "cell_type": "code",
      "source": [
        "results=pd.DataFrame(data={'y_true':y_true, 'y_pred':y_pred})\n",
        "results.head()"
      ],
      "metadata": {
        "colab": {
          "base_uri": "https://localhost:8080/",
          "height": 206
        },
        "id": "h_SIGcQc-ZqW",
        "outputId": "b4cb58d2-a5a2-497b-bf24-3346db6df7ca"
      },
      "execution_count": 8,
      "outputs": [
        {
          "output_type": "execute_result",
          "data": {
            "text/plain": [
              "       y_true      y_pred\n",
              "0  109.934283  113.175123\n",
              "1   97.234714   93.383891\n",
              "2  112.953771  106.184551\n",
              "3  130.460597  136.577360\n",
              "4   95.316933  105.626928"
            ],
            "text/html": [
              "\n",
              "  <div id=\"df-da03edba-9be1-4b66-a8de-6506821a497b\">\n",
              "    <div class=\"colab-df-container\">\n",
              "      <div>\n",
              "<style scoped>\n",
              "    .dataframe tbody tr th:only-of-type {\n",
              "        vertical-align: middle;\n",
              "    }\n",
              "\n",
              "    .dataframe tbody tr th {\n",
              "        vertical-align: top;\n",
              "    }\n",
              "\n",
              "    .dataframe thead th {\n",
              "        text-align: right;\n",
              "    }\n",
              "</style>\n",
              "<table border=\"1\" class=\"dataframe\">\n",
              "  <thead>\n",
              "    <tr style=\"text-align: right;\">\n",
              "      <th></th>\n",
              "      <th>y_true</th>\n",
              "      <th>y_pred</th>\n",
              "    </tr>\n",
              "  </thead>\n",
              "  <tbody>\n",
              "    <tr>\n",
              "      <th>0</th>\n",
              "      <td>109.934283</td>\n",
              "      <td>113.175123</td>\n",
              "    </tr>\n",
              "    <tr>\n",
              "      <th>1</th>\n",
              "      <td>97.234714</td>\n",
              "      <td>93.383891</td>\n",
              "    </tr>\n",
              "    <tr>\n",
              "      <th>2</th>\n",
              "      <td>112.953771</td>\n",
              "      <td>106.184551</td>\n",
              "    </tr>\n",
              "    <tr>\n",
              "      <th>3</th>\n",
              "      <td>130.460597</td>\n",
              "      <td>136.577360</td>\n",
              "    </tr>\n",
              "    <tr>\n",
              "      <th>4</th>\n",
              "      <td>95.316933</td>\n",
              "      <td>105.626928</td>\n",
              "    </tr>\n",
              "  </tbody>\n",
              "</table>\n",
              "</div>\n",
              "      <button class=\"colab-df-convert\" onclick=\"convertToInteractive('df-da03edba-9be1-4b66-a8de-6506821a497b')\"\n",
              "              title=\"Convert this dataframe to an interactive table.\"\n",
              "              style=\"display:none;\">\n",
              "        \n",
              "  <svg xmlns=\"http://www.w3.org/2000/svg\" height=\"24px\"viewBox=\"0 0 24 24\"\n",
              "       width=\"24px\">\n",
              "    <path d=\"M0 0h24v24H0V0z\" fill=\"none\"/>\n",
              "    <path d=\"M18.56 5.44l.94 2.06.94-2.06 2.06-.94-2.06-.94-.94-2.06-.94 2.06-2.06.94zm-11 1L8.5 8.5l.94-2.06 2.06-.94-2.06-.94L8.5 2.5l-.94 2.06-2.06.94zm10 10l.94 2.06.94-2.06 2.06-.94-2.06-.94-.94-2.06-.94 2.06-2.06.94z\"/><path d=\"M17.41 7.96l-1.37-1.37c-.4-.4-.92-.59-1.43-.59-.52 0-1.04.2-1.43.59L10.3 9.45l-7.72 7.72c-.78.78-.78 2.05 0 2.83L4 21.41c.39.39.9.59 1.41.59.51 0 1.02-.2 1.41-.59l7.78-7.78 2.81-2.81c.8-.78.8-2.07 0-2.86zM5.41 20L4 18.59l7.72-7.72 1.47 1.35L5.41 20z\"/>\n",
              "  </svg>\n",
              "      </button>\n",
              "      \n",
              "  <style>\n",
              "    .colab-df-container {\n",
              "      display:flex;\n",
              "      flex-wrap:wrap;\n",
              "      gap: 12px;\n",
              "    }\n",
              "\n",
              "    .colab-df-convert {\n",
              "      background-color: #E8F0FE;\n",
              "      border: none;\n",
              "      border-radius: 50%;\n",
              "      cursor: pointer;\n",
              "      display: none;\n",
              "      fill: #1967D2;\n",
              "      height: 32px;\n",
              "      padding: 0 0 0 0;\n",
              "      width: 32px;\n",
              "    }\n",
              "\n",
              "    .colab-df-convert:hover {\n",
              "      background-color: #E2EBFA;\n",
              "      box-shadow: 0px 1px 2px rgba(60, 64, 67, 0.3), 0px 1px 3px 1px rgba(60, 64, 67, 0.15);\n",
              "      fill: #174EA6;\n",
              "    }\n",
              "\n",
              "    [theme=dark] .colab-df-convert {\n",
              "      background-color: #3B4455;\n",
              "      fill: #D2E3FC;\n",
              "    }\n",
              "\n",
              "    [theme=dark] .colab-df-convert:hover {\n",
              "      background-color: #434B5C;\n",
              "      box-shadow: 0px 1px 3px 1px rgba(0, 0, 0, 0.15);\n",
              "      filter: drop-shadow(0px 1px 2px rgba(0, 0, 0, 0.3));\n",
              "      fill: #FFFFFF;\n",
              "    }\n",
              "  </style>\n",
              "\n",
              "      <script>\n",
              "        const buttonEl =\n",
              "          document.querySelector('#df-da03edba-9be1-4b66-a8de-6506821a497b button.colab-df-convert');\n",
              "        buttonEl.style.display =\n",
              "          google.colab.kernel.accessAllowed ? 'block' : 'none';\n",
              "\n",
              "        async function convertToInteractive(key) {\n",
              "          const element = document.querySelector('#df-da03edba-9be1-4b66-a8de-6506821a497b');\n",
              "          const dataTable =\n",
              "            await google.colab.kernel.invokeFunction('convertToInteractive',\n",
              "                                                     [key], {});\n",
              "          if (!dataTable) return;\n",
              "\n",
              "          const docLinkHtml = 'Like what you see? Visit the ' +\n",
              "            '<a target=\"_blank\" href=https://colab.research.google.com/notebooks/data_table.ipynb>data table notebook</a>'\n",
              "            + ' to learn more about interactive tables.';\n",
              "          element.innerHTML = '';\n",
              "          dataTable['output_type'] = 'display_data';\n",
              "          await google.colab.output.renderOutput(dataTable, element);\n",
              "          const docLink = document.createElement('div');\n",
              "          docLink.innerHTML = docLinkHtml;\n",
              "          element.appendChild(docLink);\n",
              "        }\n",
              "      </script>\n",
              "    </div>\n",
              "  </div>\n",
              "  "
            ]
          },
          "metadata": {},
          "execution_count": 8
        }
      ]
    },
    {
      "cell_type": "code",
      "source": [
        "results['error']=results['y_true']- results['y_pred']\n",
        "results['error_squared'] = results['error'] ** 2\n",
        "results.head()"
      ],
      "metadata": {
        "colab": {
          "base_uri": "https://localhost:8080/",
          "height": 206
        },
        "id": "5vDP3VWQ_vzL",
        "outputId": "d82a952c-afd0-471e-a77d-63a5e8debd9a"
      },
      "execution_count": 9,
      "outputs": [
        {
          "output_type": "execute_result",
          "data": {
            "text/plain": [
              "       y_true      y_pred      error  error_squared\n",
              "0  109.934283  113.175123  -3.240840      10.503042\n",
              "1   97.234714   93.383891   3.850823      14.828836\n",
              "2  112.953771  106.184551   6.769220      45.822339\n",
              "3  130.460597  136.577360  -6.116763      37.414788\n",
              "4   95.316933  105.626928 -10.309995     106.296002"
            ],
            "text/html": [
              "\n",
              "  <div id=\"df-3f3839c0-e3e3-46c5-97d6-7fbffad543f7\">\n",
              "    <div class=\"colab-df-container\">\n",
              "      <div>\n",
              "<style scoped>\n",
              "    .dataframe tbody tr th:only-of-type {\n",
              "        vertical-align: middle;\n",
              "    }\n",
              "\n",
              "    .dataframe tbody tr th {\n",
              "        vertical-align: top;\n",
              "    }\n",
              "\n",
              "    .dataframe thead th {\n",
              "        text-align: right;\n",
              "    }\n",
              "</style>\n",
              "<table border=\"1\" class=\"dataframe\">\n",
              "  <thead>\n",
              "    <tr style=\"text-align: right;\">\n",
              "      <th></th>\n",
              "      <th>y_true</th>\n",
              "      <th>y_pred</th>\n",
              "      <th>error</th>\n",
              "      <th>error_squared</th>\n",
              "    </tr>\n",
              "  </thead>\n",
              "  <tbody>\n",
              "    <tr>\n",
              "      <th>0</th>\n",
              "      <td>109.934283</td>\n",
              "      <td>113.175123</td>\n",
              "      <td>-3.240840</td>\n",
              "      <td>10.503042</td>\n",
              "    </tr>\n",
              "    <tr>\n",
              "      <th>1</th>\n",
              "      <td>97.234714</td>\n",
              "      <td>93.383891</td>\n",
              "      <td>3.850823</td>\n",
              "      <td>14.828836</td>\n",
              "    </tr>\n",
              "    <tr>\n",
              "      <th>2</th>\n",
              "      <td>112.953771</td>\n",
              "      <td>106.184551</td>\n",
              "      <td>6.769220</td>\n",
              "      <td>45.822339</td>\n",
              "    </tr>\n",
              "    <tr>\n",
              "      <th>3</th>\n",
              "      <td>130.460597</td>\n",
              "      <td>136.577360</td>\n",
              "      <td>-6.116763</td>\n",
              "      <td>37.414788</td>\n",
              "    </tr>\n",
              "    <tr>\n",
              "      <th>4</th>\n",
              "      <td>95.316933</td>\n",
              "      <td>105.626928</td>\n",
              "      <td>-10.309995</td>\n",
              "      <td>106.296002</td>\n",
              "    </tr>\n",
              "  </tbody>\n",
              "</table>\n",
              "</div>\n",
              "      <button class=\"colab-df-convert\" onclick=\"convertToInteractive('df-3f3839c0-e3e3-46c5-97d6-7fbffad543f7')\"\n",
              "              title=\"Convert this dataframe to an interactive table.\"\n",
              "              style=\"display:none;\">\n",
              "        \n",
              "  <svg xmlns=\"http://www.w3.org/2000/svg\" height=\"24px\"viewBox=\"0 0 24 24\"\n",
              "       width=\"24px\">\n",
              "    <path d=\"M0 0h24v24H0V0z\" fill=\"none\"/>\n",
              "    <path d=\"M18.56 5.44l.94 2.06.94-2.06 2.06-.94-2.06-.94-.94-2.06-.94 2.06-2.06.94zm-11 1L8.5 8.5l.94-2.06 2.06-.94-2.06-.94L8.5 2.5l-.94 2.06-2.06.94zm10 10l.94 2.06.94-2.06 2.06-.94-2.06-.94-.94-2.06-.94 2.06-2.06.94z\"/><path d=\"M17.41 7.96l-1.37-1.37c-.4-.4-.92-.59-1.43-.59-.52 0-1.04.2-1.43.59L10.3 9.45l-7.72 7.72c-.78.78-.78 2.05 0 2.83L4 21.41c.39.39.9.59 1.41.59.51 0 1.02-.2 1.41-.59l7.78-7.78 2.81-2.81c.8-.78.8-2.07 0-2.86zM5.41 20L4 18.59l7.72-7.72 1.47 1.35L5.41 20z\"/>\n",
              "  </svg>\n",
              "      </button>\n",
              "      \n",
              "  <style>\n",
              "    .colab-df-container {\n",
              "      display:flex;\n",
              "      flex-wrap:wrap;\n",
              "      gap: 12px;\n",
              "    }\n",
              "\n",
              "    .colab-df-convert {\n",
              "      background-color: #E8F0FE;\n",
              "      border: none;\n",
              "      border-radius: 50%;\n",
              "      cursor: pointer;\n",
              "      display: none;\n",
              "      fill: #1967D2;\n",
              "      height: 32px;\n",
              "      padding: 0 0 0 0;\n",
              "      width: 32px;\n",
              "    }\n",
              "\n",
              "    .colab-df-convert:hover {\n",
              "      background-color: #E2EBFA;\n",
              "      box-shadow: 0px 1px 2px rgba(60, 64, 67, 0.3), 0px 1px 3px 1px rgba(60, 64, 67, 0.15);\n",
              "      fill: #174EA6;\n",
              "    }\n",
              "\n",
              "    [theme=dark] .colab-df-convert {\n",
              "      background-color: #3B4455;\n",
              "      fill: #D2E3FC;\n",
              "    }\n",
              "\n",
              "    [theme=dark] .colab-df-convert:hover {\n",
              "      background-color: #434B5C;\n",
              "      box-shadow: 0px 1px 3px 1px rgba(0, 0, 0, 0.15);\n",
              "      filter: drop-shadow(0px 1px 2px rgba(0, 0, 0, 0.3));\n",
              "      fill: #FFFFFF;\n",
              "    }\n",
              "  </style>\n",
              "\n",
              "      <script>\n",
              "        const buttonEl =\n",
              "          document.querySelector('#df-3f3839c0-e3e3-46c5-97d6-7fbffad543f7 button.colab-df-convert');\n",
              "        buttonEl.style.display =\n",
              "          google.colab.kernel.accessAllowed ? 'block' : 'none';\n",
              "\n",
              "        async function convertToInteractive(key) {\n",
              "          const element = document.querySelector('#df-3f3839c0-e3e3-46c5-97d6-7fbffad543f7');\n",
              "          const dataTable =\n",
              "            await google.colab.kernel.invokeFunction('convertToInteractive',\n",
              "                                                     [key], {});\n",
              "          if (!dataTable) return;\n",
              "\n",
              "          const docLinkHtml = 'Like what you see? Visit the ' +\n",
              "            '<a target=\"_blank\" href=https://colab.research.google.com/notebooks/data_table.ipynb>data table notebook</a>'\n",
              "            + ' to learn more about interactive tables.';\n",
              "          element.innerHTML = '';\n",
              "          dataTable['output_type'] = 'display_data';\n",
              "          await google.colab.output.renderOutput(dataTable, element);\n",
              "          const docLink = document.createElement('div');\n",
              "          docLink.innerHTML = docLinkHtml;\n",
              "          element.appendChild(docLink);\n",
              "        }\n",
              "      </script>\n",
              "    </div>\n",
              "  </div>\n",
              "  "
            ]
          },
          "metadata": {},
          "execution_count": 9
        }
      ]
    },
    {
      "cell_type": "code",
      "source": [
        "print(f\"MAE - mean absolute error: {results['error'].abs().sum() / len(results):.4f}\")\n",
        "\n",
        "print(f\"MSE - mean squared error: {results['error_squared'].sum() / len(results):.4f}\")\n",
        "\n",
        "print(f\"RMSE - root mean squared error: {np.sqrt(results['error_squared'].sum() / len(results)):.4f}\")"
      ],
      "metadata": {
        "colab": {
          "base_uri": "https://localhost:8080/"
        },
        "id": "WEbFntuMBmic",
        "outputId": "4dea3666-1ba7-4faa-d48b-5a68b83dff3b"
      },
      "execution_count": 10,
      "outputs": [
        {
          "output_type": "stream",
          "name": "stdout",
          "text": [
            "MAE - mean absolute error: 6.7918\n",
            "MSE - mean squared error: 74.9471\n",
            "RMSE - root mean squared error: 8.6572\n"
          ]
        }
      ]
    },
    {
      "cell_type": "markdown",
      "source": [
        "### <a name='1'></a> Graphics interpretation / Interpretacja graficzna"
      ],
      "metadata": {
        "id": "NomhYnuKCp8c"
      }
    },
    {
      "cell_type": "code",
      "source": [
        "def  plot_regression_results(y_true, y_pred):\n",
        "  results=pd.DataFrame({'y_true':y_true, 'y_pred':y_pred})\n",
        "  min=results[['y_true','y_pred']].min().min()\n",
        "  max=results[['y_true','y_pred']].max().max()\n",
        "\n",
        "  fig = go.Figure(data=[go.Scatter(x=results['y_true'], y=results['y_pred'], mode='markers'),\n",
        "                    go.Scatter(x=[min, max], y=[min, max])],\n",
        "                    layout=go.Layout(showlegend=False, width=800,\n",
        "                                     xaxis_title='y_true', \n",
        "                                     yaxis_title='y_pred',\n",
        "                                     title='Regresja: y_true vs. y_pred'))                        \n",
        "                                 \n",
        "  fig.show()"
      ],
      "metadata": {
        "id": "5Eya-rbhCno9"
      },
      "execution_count": 13,
      "outputs": []
    },
    {
      "cell_type": "code",
      "source": [
        "plot_regression_results(y_true, y_pred)"
      ],
      "metadata": {
        "colab": {
          "base_uri": "https://localhost:8080/",
          "height": 542
        },
        "id": "0oTV1CORPfof",
        "outputId": "2ecf2b22-8df5-4207-adb7-e26e59b10d79"
      },
      "execution_count": 14,
      "outputs": [
        {
          "output_type": "display_data",
          "data": {
            "text/html": [
              "<html>\n",
              "<head><meta charset=\"utf-8\" /></head>\n",
              "<body>\n",
              "    <div>            <script src=\"https://cdnjs.cloudflare.com/ajax/libs/mathjax/2.7.5/MathJax.js?config=TeX-AMS-MML_SVG\"></script><script type=\"text/javascript\">if (window.MathJax) {MathJax.Hub.Config({SVG: {font: \"STIX-Web\"}});}</script>                <script type=\"text/javascript\">window.PlotlyConfig = {MathJaxConfig: 'local'};</script>\n",
              "        <script src=\"https://cdn.plot.ly/plotly-2.8.3.min.js\"></script>                <div id=\"4af42e33-c738-496d-8569-18eac645e518\" class=\"plotly-graph-div\" style=\"height:525px; width:800px;\"></div>            <script type=\"text/javascript\">                                    window.PLOTLYENV=window.PLOTLYENV || {};                                    if (document.getElementById(\"4af42e33-c738-496d-8569-18eac645e518\")) {                    Plotly.newPlot(                        \"4af42e33-c738-496d-8569-18eac645e518\",                        [{\"mode\":\"markers\",\"x\":[109.93428306022466,97.2347139765763,112.95377076201385,130.46059712816052,95.31693250553329,95.3172608610164,131.58425631014782,115.34869458305818,90.61051228130096,110.8512008717193,90.73164614375075,90.68540492859486,104.83924543132068,61.73439510684404,65.50164334973934,88.75424941518054,79.74337759331152,106.28494665190547,81.83951848957578,71.75392597329417,129.31297537843108,95.4844739902693,101.35056409375848,71.50503627573087,89.11234550949635,102.21845179419732,76.98012845155395,107.51396036691344,87.9872262016239,94.16612500413447,87.96586775541206,137.04556369017877,99.73005550524132,78.84578142088199,116.45089824206377,75.58312700057955,104.1772719000951,60.80659752240449,73.43627902203139,103.93722471738246,114.76933159990821,103.4273656237994,97.68703435223519,93.97792608821422,70.42956019265145,85.60311583210583,90.78722458080425,121.1424445243783,106.87236579136923,64.73919689274533],\"y\":[113.1751227541726,93.38389117241314,106.18455075895426,136.5773600165692,105.6269277304928,104.63006205217837,123.19208107792144,112.25657082454603,93.92314659533659,120.60665214294289,85.93990376529786,88.8288151619567,93.77589569126039,49.772328866037334,73.62690157368132,102.31664970088877,79.02327637750818,116.3202756308257,85.45587874005213,65.30272842724293,132.92693143351522,110.86483965492899,100.99230370265896,87.15147283387094,62.9148944685989,110.43747683794956,77.85059913393566,104.52388686225476,88.90483396697893,74.29043585812555,85.76914887703694,140.61668940529623,114.50899595265649,73.66307923814551,108.3659622131319,70.56555656473418,113.33129307711584,64.09410861900133,68.138676984361,109.06989904851602,115.74010709338862,113.11381552912829,90.66650341346167,90.70130462223653,66.50847866132987,70.96796635078465,93.74842735145,123.7529972461772,106.92350035779384,62.39332555899386],\"type\":\"scatter\"},{\"x\":[49.772328866037334,140.61668940529623],\"y\":[49.772328866037334,140.61668940529623],\"type\":\"scatter\"}],                        {\"showlegend\":false,\"title\":{\"text\":\"Regresja: y_true vs. y_pred\"},\"width\":800,\"xaxis\":{\"title\":{\"text\":\"y_true\"}},\"yaxis\":{\"title\":{\"text\":\"y_pred\"}},\"template\":{\"data\":{\"bar\":[{\"error_x\":{\"color\":\"#2a3f5f\"},\"error_y\":{\"color\":\"#2a3f5f\"},\"marker\":{\"line\":{\"color\":\"#E5ECF6\",\"width\":0.5},\"pattern\":{\"fillmode\":\"overlay\",\"size\":10,\"solidity\":0.2}},\"type\":\"bar\"}],\"barpolar\":[{\"marker\":{\"line\":{\"color\":\"#E5ECF6\",\"width\":0.5},\"pattern\":{\"fillmode\":\"overlay\",\"size\":10,\"solidity\":0.2}},\"type\":\"barpolar\"}],\"carpet\":[{\"aaxis\":{\"endlinecolor\":\"#2a3f5f\",\"gridcolor\":\"white\",\"linecolor\":\"white\",\"minorgridcolor\":\"white\",\"startlinecolor\":\"#2a3f5f\"},\"baxis\":{\"endlinecolor\":\"#2a3f5f\",\"gridcolor\":\"white\",\"linecolor\":\"white\",\"minorgridcolor\":\"white\",\"startlinecolor\":\"#2a3f5f\"},\"type\":\"carpet\"}],\"choropleth\":[{\"colorbar\":{\"outlinewidth\":0,\"ticks\":\"\"},\"type\":\"choropleth\"}],\"contour\":[{\"colorbar\":{\"outlinewidth\":0,\"ticks\":\"\"},\"colorscale\":[[0.0,\"#0d0887\"],[0.1111111111111111,\"#46039f\"],[0.2222222222222222,\"#7201a8\"],[0.3333333333333333,\"#9c179e\"],[0.4444444444444444,\"#bd3786\"],[0.5555555555555556,\"#d8576b\"],[0.6666666666666666,\"#ed7953\"],[0.7777777777777778,\"#fb9f3a\"],[0.8888888888888888,\"#fdca26\"],[1.0,\"#f0f921\"]],\"type\":\"contour\"}],\"contourcarpet\":[{\"colorbar\":{\"outlinewidth\":0,\"ticks\":\"\"},\"type\":\"contourcarpet\"}],\"heatmap\":[{\"colorbar\":{\"outlinewidth\":0,\"ticks\":\"\"},\"colorscale\":[[0.0,\"#0d0887\"],[0.1111111111111111,\"#46039f\"],[0.2222222222222222,\"#7201a8\"],[0.3333333333333333,\"#9c179e\"],[0.4444444444444444,\"#bd3786\"],[0.5555555555555556,\"#d8576b\"],[0.6666666666666666,\"#ed7953\"],[0.7777777777777778,\"#fb9f3a\"],[0.8888888888888888,\"#fdca26\"],[1.0,\"#f0f921\"]],\"type\":\"heatmap\"}],\"heatmapgl\":[{\"colorbar\":{\"outlinewidth\":0,\"ticks\":\"\"},\"colorscale\":[[0.0,\"#0d0887\"],[0.1111111111111111,\"#46039f\"],[0.2222222222222222,\"#7201a8\"],[0.3333333333333333,\"#9c179e\"],[0.4444444444444444,\"#bd3786\"],[0.5555555555555556,\"#d8576b\"],[0.6666666666666666,\"#ed7953\"],[0.7777777777777778,\"#fb9f3a\"],[0.8888888888888888,\"#fdca26\"],[1.0,\"#f0f921\"]],\"type\":\"heatmapgl\"}],\"histogram\":[{\"marker\":{\"pattern\":{\"fillmode\":\"overlay\",\"size\":10,\"solidity\":0.2}},\"type\":\"histogram\"}],\"histogram2d\":[{\"colorbar\":{\"outlinewidth\":0,\"ticks\":\"\"},\"colorscale\":[[0.0,\"#0d0887\"],[0.1111111111111111,\"#46039f\"],[0.2222222222222222,\"#7201a8\"],[0.3333333333333333,\"#9c179e\"],[0.4444444444444444,\"#bd3786\"],[0.5555555555555556,\"#d8576b\"],[0.6666666666666666,\"#ed7953\"],[0.7777777777777778,\"#fb9f3a\"],[0.8888888888888888,\"#fdca26\"],[1.0,\"#f0f921\"]],\"type\":\"histogram2d\"}],\"histogram2dcontour\":[{\"colorbar\":{\"outlinewidth\":0,\"ticks\":\"\"},\"colorscale\":[[0.0,\"#0d0887\"],[0.1111111111111111,\"#46039f\"],[0.2222222222222222,\"#7201a8\"],[0.3333333333333333,\"#9c179e\"],[0.4444444444444444,\"#bd3786\"],[0.5555555555555556,\"#d8576b\"],[0.6666666666666666,\"#ed7953\"],[0.7777777777777778,\"#fb9f3a\"],[0.8888888888888888,\"#fdca26\"],[1.0,\"#f0f921\"]],\"type\":\"histogram2dcontour\"}],\"mesh3d\":[{\"colorbar\":{\"outlinewidth\":0,\"ticks\":\"\"},\"type\":\"mesh3d\"}],\"parcoords\":[{\"line\":{\"colorbar\":{\"outlinewidth\":0,\"ticks\":\"\"}},\"type\":\"parcoords\"}],\"pie\":[{\"automargin\":true,\"type\":\"pie\"}],\"scatter\":[{\"marker\":{\"colorbar\":{\"outlinewidth\":0,\"ticks\":\"\"}},\"type\":\"scatter\"}],\"scatter3d\":[{\"line\":{\"colorbar\":{\"outlinewidth\":0,\"ticks\":\"\"}},\"marker\":{\"colorbar\":{\"outlinewidth\":0,\"ticks\":\"\"}},\"type\":\"scatter3d\"}],\"scattercarpet\":[{\"marker\":{\"colorbar\":{\"outlinewidth\":0,\"ticks\":\"\"}},\"type\":\"scattercarpet\"}],\"scattergeo\":[{\"marker\":{\"colorbar\":{\"outlinewidth\":0,\"ticks\":\"\"}},\"type\":\"scattergeo\"}],\"scattergl\":[{\"marker\":{\"colorbar\":{\"outlinewidth\":0,\"ticks\":\"\"}},\"type\":\"scattergl\"}],\"scattermapbox\":[{\"marker\":{\"colorbar\":{\"outlinewidth\":0,\"ticks\":\"\"}},\"type\":\"scattermapbox\"}],\"scatterpolar\":[{\"marker\":{\"colorbar\":{\"outlinewidth\":0,\"ticks\":\"\"}},\"type\":\"scatterpolar\"}],\"scatterpolargl\":[{\"marker\":{\"colorbar\":{\"outlinewidth\":0,\"ticks\":\"\"}},\"type\":\"scatterpolargl\"}],\"scatterternary\":[{\"marker\":{\"colorbar\":{\"outlinewidth\":0,\"ticks\":\"\"}},\"type\":\"scatterternary\"}],\"surface\":[{\"colorbar\":{\"outlinewidth\":0,\"ticks\":\"\"},\"colorscale\":[[0.0,\"#0d0887\"],[0.1111111111111111,\"#46039f\"],[0.2222222222222222,\"#7201a8\"],[0.3333333333333333,\"#9c179e\"],[0.4444444444444444,\"#bd3786\"],[0.5555555555555556,\"#d8576b\"],[0.6666666666666666,\"#ed7953\"],[0.7777777777777778,\"#fb9f3a\"],[0.8888888888888888,\"#fdca26\"],[1.0,\"#f0f921\"]],\"type\":\"surface\"}],\"table\":[{\"cells\":{\"fill\":{\"color\":\"#EBF0F8\"},\"line\":{\"color\":\"white\"}},\"header\":{\"fill\":{\"color\":\"#C8D4E3\"},\"line\":{\"color\":\"white\"}},\"type\":\"table\"}]},\"layout\":{\"annotationdefaults\":{\"arrowcolor\":\"#2a3f5f\",\"arrowhead\":0,\"arrowwidth\":1},\"autotypenumbers\":\"strict\",\"coloraxis\":{\"colorbar\":{\"outlinewidth\":0,\"ticks\":\"\"}},\"colorscale\":{\"diverging\":[[0,\"#8e0152\"],[0.1,\"#c51b7d\"],[0.2,\"#de77ae\"],[0.3,\"#f1b6da\"],[0.4,\"#fde0ef\"],[0.5,\"#f7f7f7\"],[0.6,\"#e6f5d0\"],[0.7,\"#b8e186\"],[0.8,\"#7fbc41\"],[0.9,\"#4d9221\"],[1,\"#276419\"]],\"sequential\":[[0.0,\"#0d0887\"],[0.1111111111111111,\"#46039f\"],[0.2222222222222222,\"#7201a8\"],[0.3333333333333333,\"#9c179e\"],[0.4444444444444444,\"#bd3786\"],[0.5555555555555556,\"#d8576b\"],[0.6666666666666666,\"#ed7953\"],[0.7777777777777778,\"#fb9f3a\"],[0.8888888888888888,\"#fdca26\"],[1.0,\"#f0f921\"]],\"sequentialminus\":[[0.0,\"#0d0887\"],[0.1111111111111111,\"#46039f\"],[0.2222222222222222,\"#7201a8\"],[0.3333333333333333,\"#9c179e\"],[0.4444444444444444,\"#bd3786\"],[0.5555555555555556,\"#d8576b\"],[0.6666666666666666,\"#ed7953\"],[0.7777777777777778,\"#fb9f3a\"],[0.8888888888888888,\"#fdca26\"],[1.0,\"#f0f921\"]]},\"colorway\":[\"#636efa\",\"#EF553B\",\"#00cc96\",\"#ab63fa\",\"#FFA15A\",\"#19d3f3\",\"#FF6692\",\"#B6E880\",\"#FF97FF\",\"#FECB52\"],\"font\":{\"color\":\"#2a3f5f\"},\"geo\":{\"bgcolor\":\"white\",\"lakecolor\":\"white\",\"landcolor\":\"#E5ECF6\",\"showlakes\":true,\"showland\":true,\"subunitcolor\":\"white\"},\"hoverlabel\":{\"align\":\"left\"},\"hovermode\":\"closest\",\"mapbox\":{\"style\":\"light\"},\"paper_bgcolor\":\"white\",\"plot_bgcolor\":\"#E5ECF6\",\"polar\":{\"angularaxis\":{\"gridcolor\":\"white\",\"linecolor\":\"white\",\"ticks\":\"\"},\"bgcolor\":\"#E5ECF6\",\"radialaxis\":{\"gridcolor\":\"white\",\"linecolor\":\"white\",\"ticks\":\"\"}},\"scene\":{\"xaxis\":{\"backgroundcolor\":\"#E5ECF6\",\"gridcolor\":\"white\",\"gridwidth\":2,\"linecolor\":\"white\",\"showbackground\":true,\"ticks\":\"\",\"zerolinecolor\":\"white\"},\"yaxis\":{\"backgroundcolor\":\"#E5ECF6\",\"gridcolor\":\"white\",\"gridwidth\":2,\"linecolor\":\"white\",\"showbackground\":true,\"ticks\":\"\",\"zerolinecolor\":\"white\"},\"zaxis\":{\"backgroundcolor\":\"#E5ECF6\",\"gridcolor\":\"white\",\"gridwidth\":2,\"linecolor\":\"white\",\"showbackground\":true,\"ticks\":\"\",\"zerolinecolor\":\"white\"}},\"shapedefaults\":{\"line\":{\"color\":\"#2a3f5f\"}},\"ternary\":{\"aaxis\":{\"gridcolor\":\"white\",\"linecolor\":\"white\",\"ticks\":\"\"},\"baxis\":{\"gridcolor\":\"white\",\"linecolor\":\"white\",\"ticks\":\"\"},\"bgcolor\":\"#E5ECF6\",\"caxis\":{\"gridcolor\":\"white\",\"linecolor\":\"white\",\"ticks\":\"\"}},\"title\":{\"x\":0.05},\"xaxis\":{\"automargin\":true,\"gridcolor\":\"white\",\"linecolor\":\"white\",\"ticks\":\"\",\"title\":{\"standoff\":15},\"zerolinecolor\":\"white\",\"zerolinewidth\":2},\"yaxis\":{\"automargin\":true,\"gridcolor\":\"white\",\"linecolor\":\"white\",\"ticks\":\"\",\"title\":{\"standoff\":15},\"zerolinecolor\":\"white\",\"zerolinewidth\":2}}}},                        {\"responsive\": true}                    ).then(function(){\n",
              "                            \n",
              "var gd = document.getElementById('4af42e33-c738-496d-8569-18eac645e518');\n",
              "var x = new MutationObserver(function (mutations, observer) {{\n",
              "        var display = window.getComputedStyle(gd).display;\n",
              "        if (!display || display === 'none') {{\n",
              "            console.log([gd, 'removed!']);\n",
              "            Plotly.purge(gd);\n",
              "            observer.disconnect();\n",
              "        }}\n",
              "}});\n",
              "\n",
              "// Listen for the removal of the full notebook cells\n",
              "var notebookContainer = gd.closest('#notebook-container');\n",
              "if (notebookContainer) {{\n",
              "    x.observe(notebookContainer, {childList: true});\n",
              "}}\n",
              "\n",
              "// Listen for the clearing of the current output cell\n",
              "var outputEl = gd.closest('.output');\n",
              "if (outputEl) {{\n",
              "    x.observe(outputEl, {childList: true});\n",
              "}}\n",
              "\n",
              "                        })                };                            </script>        </div>\n",
              "</body>\n",
              "</html>"
            ]
          },
          "metadata": {}
        }
      ]
    },
    {
      "cell_type": "code",
      "source": [
        "y_true = 100 + 20 * np.random.randn(1000)\n",
        "y_pred = y_true + 10 * np.random.randn(1000)\n",
        "\n",
        "results = pd.DataFrame({'y_true': y_true, 'y_pred': y_pred})\n",
        "results['error'] = results['y_true'] - results['y_pred']\n",
        "\n",
        "\n",
        "px.histogram(results, x='error', nbins=50, width=800)"
      ],
      "metadata": {
        "colab": {
          "base_uri": "https://localhost:8080/",
          "height": 542
        },
        "id": "gwUnOl-2Pq9J",
        "outputId": "61bc0be6-0030-47e2-d3a8-23463a9f7357"
      },
      "execution_count": 33,
      "outputs": [
        {
          "output_type": "display_data",
          "data": {
            "text/html": [
              "<html>\n",
              "<head><meta charset=\"utf-8\" /></head>\n",
              "<body>\n",
              "    <div>            <script src=\"https://cdnjs.cloudflare.com/ajax/libs/mathjax/2.7.5/MathJax.js?config=TeX-AMS-MML_SVG\"></script><script type=\"text/javascript\">if (window.MathJax) {MathJax.Hub.Config({SVG: {font: \"STIX-Web\"}});}</script>                <script type=\"text/javascript\">window.PlotlyConfig = {MathJaxConfig: 'local'};</script>\n",
              "        <script src=\"https://cdn.plot.ly/plotly-2.8.3.min.js\"></script>                <div id=\"7442484e-359a-4d6b-ade8-100968b85549\" class=\"plotly-graph-div\" style=\"height:525px; width:800px;\"></div>            <script type=\"text/javascript\">                                    window.PLOTLYENV=window.PLOTLYENV || {};                                    if (document.getElementById(\"7442484e-359a-4d6b-ade8-100968b85549\")) {                    Plotly.newPlot(                        \"7442484e-359a-4d6b-ade8-100968b85549\",                        [{\"alignmentgroup\":\"True\",\"bingroup\":\"x\",\"hovertemplate\":\"error=%{x}<br>count=%{y}<extra></extra>\",\"legendgroup\":\"\",\"marker\":{\"color\":\"#636efa\",\"pattern\":{\"shape\":\"\"}},\"name\":\"\",\"nbinsx\":50,\"offsetgroup\":\"\",\"orientation\":\"v\",\"showlegend\":false,\"x\":[-7.85185082310376,17.776809623702007,-7.147456498889454,2.337240578517253,-7.074577108643808,-7.769316923548288,-16.07915061119158,-13.534536476212025,-13.465716626102974,-14.436703191662389,-2.9137898481594533,-0.32185087036839377,-8.728170831783345,-7.320809514330236,3.090662367382606,-4.04823408808268,0.35096466784594327,8.539329084600553,-12.9046074137635,-0.5519924253008952,-20.4870825769885,16.254922701998325,5.567787728433672,-0.3263883669087164,-11.373810976289136,-3.9946937260218505,-3.10472754180752,11.272637925541474,11.569413972294711,-3.2250466028990417,13.641059938183588,5.318777502893283,-5.00917329085857,9.823242722767759,-16.053559623618057,-12.239363442378902,15.714199983382997,9.323712431819871,22.857772444949504,7.825913625481334,-7.663884765723992,4.138949422748567,-4.6079724361596845,15.223343182817445,-7.9797525458190535,5.551092279283495,-0.12169682282905114,0.9287450139305236,12.715485208922843,11.530843317397824,-9.677944690034252,-3.9899215750169503,-10.500490415534273,-3.2465823550251827,-1.4299063480921603,17.26010618666767,2.703666967611696,0.27384320403743345,-19.531071982725734,-6.869566320986777,-15.36061181709529,-5.975377058947288,7.113032269494795,-1.171242161498526,-2.362236462642329,9.39155569770682,3.8438737659292173,2.057669936771717,-16.05619832565118,20.807405253909792,-12.058184207160437,9.367952349593828,13.72079187269614,-11.799421300384637,-7.318980692343814,-12.545187023811906,-8.007019475455763,-20.59845001737402,-5.587238369444847,1.564773761231578,-3.429263773213421,-12.434691283459628,7.793753252601164,6.518885825313802,3.0896001459790767,21.045827987653325,-1.380784084175474,18.86128703951026,-0.5305931293261921,-8.652897561352503,4.768764606438353,-16.771158701868714,14.605008994184885,-11.91260681631833,-6.751370564069205,17.160332483106885,-27.107942990405334,0.6374528550396548,8.774840221556317,14.070871947840175,2.2001802765967398,1.2740687238996031,-1.0264552853966507,2.9779615622395994,-6.33225310115094,3.8762983266324653,19.349641172404716,1.4936149564964154,23.674776533732782,-3.537706308913897,9.793002302826352,-1.6336035491580105,-13.14074981524604,9.487486952680001,-10.612562585121182,4.333895666861537,-17.531948020655847,3.6515261319821377,8.40492985506691,-6.872384503952887,4.357897296236359,8.41449514129009,4.778398507037906,0.44606532183001946,-13.421801312448537,19.34087745459577,-0.23080658950421196,-6.249035946540431,-1.9344857499179682,-13.098651694335345,0.7434532975852477,1.8455144218594484,-5.923295470133439,-0.9931381495134985,3.904087382804704,-5.161440395863792,6.525282932166448,6.1117715201932725,5.279940217656133,-13.53069160166406,32.210163559857136,-3.955988347629429,-0.3427181420022265,16.808704592381204,-3.097267791360025,-4.7575199183153245,-5.8963923135739975,26.518280630449496,-13.663894118544377,7.377367046848406,-6.865677467531754,-7.4107378068228655,8.766970856192927,-6.604599523515503,3.8549324091235775,20.713771793381568,-11.677419255277783,7.750449630162393,8.544934627380542,4.030658680367225,-2.7223672532738874,0.5727041082210178,-5.480669247071702,13.394893665286588,7.423863704307351,1.1599707232153378,-18.97887292658706,1.138125384137581,-10.852222636616318,-0.3855516878431757,4.836586374375685,2.4672442411443996,1.6841971202888146,-6.036457389607392,-13.746112675765545,-3.5968084768632167,-11.870776787417554,9.647897376296854,4.146305088140309,7.243025342076663,-3.144445908748523,3.5895838517941314,-7.297729370341955,9.310017116324417,-0.43030973321280896,-6.8685791101225675,20.653027750406096,-21.216313073302032,2.8315188487987513,20.25039913676173,-1.5809389857678582,-0.3344346797315154,0.8189437957249339,-9.91191112926667,-7.4744497142705555,-2.978761910238447,-4.501556339466475,1.043584494380866,-17.754908492400475,14.791960183577672,-1.3965167421589655,-0.6502463118877984,-8.132804060645924,8.438538774248997,17.436726023965363,-1.5682301609819262,-2.812304922186044,-14.895994094476492,12.703620463250857,-11.5469376671672,-23.67414364027121,3.77764887522477,12.909422194932233,4.069743663733718,-0.14004967371380417,-5.637878750069149,5.913947298380478,-15.551985341473426,11.145323150080614,17.392051521727993,-11.067104242873185,22.74621031206199,2.0412976887271554,-31.176811292080487,0.12043552959931958,11.2076765069625,0.5739746378679342,0.5080078861953297,-1.60649940353116,-6.622629821596192,10.391111683677394,-16.875480552367932,-2.451142843726174,-7.267940464018039,6.281493997556424,-12.863821369955332,2.5705240881306395,-2.7755251349353216,9.331060771871094,9.969316264021273,-6.882053064528833,4.436068302073863,8.538230875043766,6.4318334202703085,-6.989530717174205,6.290378612036108,1.1765493160216351,-0.15027750287096353,19.173488860102992,14.711264053735178,-3.3627788924756317,7.370293611526975,-10.567249112804177,-9.668071042505446,-7.191686663554378,-18.197717873125967,0.8308932774318265,-6.488819259038394,5.844009765960308,-24.52369912868724,-19.836336524360206,-0.11880434517792082,-3.8658622990519262,-13.592975993648054,1.4713950481410762,6.5662407079970535,-8.739897510068829,-0.784392460836699,-1.8299444964525975,8.342713430679652,17.176721483633955,-2.361424098791005,-9.049620414941998,2.258067490760425,-14.364295195588667,7.03916325415544,10.547044549659205,0.6723030719613092,0.8259257535129052,-7.699687313352229,7.749628240639851,-13.680942368148976,-19.669169625082546,0.3914402696834145,-12.497104201843186,10.564970706252595,-10.752215411819165,-10.47276408559462,-8.634372801898792,0.1556308887029445,29.54248941242031,6.41727143652129,6.259160176846024,9.782549380604777,-1.2224300454706594,4.189634455212342,8.24612009765022,10.588001482478205,7.155129854852291,-11.214992118499282,6.610250546274941,5.149387064332728,4.566976150232463,-3.389935138094202,-4.562494885285325,30.446565392431623,-10.21635213827608,-14.363680342437533,10.501865373616695,9.722982447348343,4.50253387778271,7.560040194566042,-2.2392687394660697,19.465252863588645,11.179276080367401,-15.391972001749082,9.282199673480193,-12.434282781029253,-3.553381955901372,18.092677145882575,-6.353291952162067,1.1766730219285364,4.554670562497407,-2.4495709317200465,-4.746334855667925,-7.0759182197462,-11.78252847548002,-4.081359127783571,13.756340887863615,4.7364545765119175,-29.430483352686224,-7.244910603817274,-23.692873008114972,-13.954340821991849,-2.418020715557489,-3.014070697811178,0.3658003987684566,17.378046158464997,-0.18047252468224428,-12.106745525421971,5.996399948212044,-4.119529990618091,-8.51591045893197,9.096804393124756,4.513028643436641,10.179114904771595,8.22165606689407,12.876052836530619,9.004484613780264,-14.194556807978387,9.154770290902917,-1.2645921906069049,5.028687536709555,-11.788659370369388,-13.111622966036165,-8.640699821389475,-3.0613455310275413,2.3105953684089826,11.918747041912496,-19.435288811221966,7.596730177525529,-6.636463470328422,-10.595655726233971,5.552804969053298,-10.38012527315962,-7.642132033388549,-17.279638353817646,4.693464664267111,12.858640172797152,5.054897554445105,-2.0885354253433235,-0.5821272708505631,3.934378962745498,19.091974589772434,-4.704829961291068,-19.723444790821986,-4.642512381230034,-6.09135519053514,-5.724453061551017,-3.970466698823998,-9.316659668680956,-3.9537368118566576,3.1267716965327566,7.959889100087537,2.4897365528067468,-3.1412949645066703,3.1608296112297296,-3.1433868313143023,-4.391501337004172,-8.331794312701817,-12.827949688389808,-0.7800741847885746,13.07776565147661,3.4510409681919043,-0.4406256740659984,18.357687561770902,-13.88664520102482,-1.4237791251046588,-3.813528345802851,-13.65526462526266,6.301428301423471,-5.740419308840302,1.0986412310193572,1.840868670159196,7.721923878043796,-16.656032136865264,3.755000400755705,-6.994642468957025,18.750073874719362,-11.79988529689787,-10.52211155957059,-0.9743411029730282,2.26942466137924,-4.0000000561356615,-22.887906608802894,17.63236698903485,-7.820273875741279,9.116173021539026,0.19918396299731,2.4788011907866263,4.283182577977556,0.10465129052730049,11.3417114527779,-10.291804361279674,17.941435111985996,-5.397645128283415,3.265358525345718,11.709248938074538,-2.0238337059869593,15.569510867064778,-0.3971382171963427,14.228769078115548,-4.612720843178309,9.243573336303754,4.509940170293092,-2.939493879431623,7.725421118422361,0.5796399966830279,15.13830501244854,-6.308756035961551,-17.649138055507713,-27.922088679099616,-0.9116814666643904,-7.882041407971869,17.80625672907489,-15.027343263055883,-7.762285047241065,4.839334449512336,-12.371808002890091,2.5447607664534218,4.580251830145571,-4.753349254274909,10.63354499830318,-10.21624764399948,10.559898119268432,10.500547898231858,9.096897884083347,-7.59500037516122,6.167753615197071,13.479957843671684,6.0567999993579775,0.3204237068048741,11.809724836643852,11.516811090343438,-21.112963340995847,8.605654038138866,3.2304236877300667,3.6723700079928534,4.213568077704423,-6.213467399691027,-9.481429504720495,3.059544315315918,12.364782865923488,-12.744402278489034,0.9534109119668273,-17.303218148571673,22.455858975651637,-1.954032212833198,-19.186063338762082,3.5326413543815818,2.2549342333463613,-2.955116915903389,5.587958188849569,3.1207193205273285,3.378150941914029,6.274207344263743,-12.288565502005596,-4.610780322964345,-2.5062823210330265,-8.085710068901165,2.6435583320346723,7.742038183529004,6.0262430461455665,-0.0178304110460914,10.592117083729022,5.002610165866756,5.161166418714345,-21.24556229829014,27.738149399339164,1.7961972140563347,-17.25693792814772,-1.2184446413245382,-7.5341747342109215,-0.9982631509976727,6.673333812164799,22.419159345089128,-2.0545568703630295,7.756066046023918,8.003354061653042,4.989872559791124,-17.44861406623494,-24.048375422539735,-2.1720793752840137,4.647672239117284,11.772264174512102,-4.685401615460691,-17.829056000651434,2.4734038702515733,23.78996040753224,-6.700496718155236,-9.853997114500501,15.858456403858469,-1.7648418366295289,-4.5122601613609845,0.7310730200893829,7.907709190853538,-10.159372235635558,4.033797459686824,14.851861626999323,20.494744856696812,-12.6084951999931,-6.166639764711178,-0.8797354712916956,4.4027463685080335,5.2899841420312725,10.75736648441611,4.314556445598853,21.200872151201736,7.360636534685142,3.109375163510933,-6.098800471904184,0.39926463373363674,-7.949231138755593,-13.491351051134302,-10.581700938241013,-4.705098473785569,-0.11862679180784141,9.80788008413559,-7.3994405137931665,-16.79747382221528,-3.4210603965041884,-19.17259148426122,15.255717080610836,11.54163384779541,-8.552015077482622,-2.6429021015325134,-13.137821765718073,0.15471640726740077,8.679754225283318,2.1359324220504305,15.326839709237348,11.28590673097034,-9.724439979180104,-8.727874144696102,-3.630042848060768,17.21077520960469,3.5840357551288804,12.249998886600508,-11.765332537877654,5.837221335626012,10.857477107815498,-0.29796165121425133,6.401544568346111,-14.837439102037067,7.348108975341901,13.992282592246312,21.529135157575155,0.30786502413414496,5.61930113857926,14.289046065117269,-11.892264612557852,-6.672451474292416,0.28217878937229557,-13.643262441708671,-6.625360333986123,8.228559015184317,10.392201639907654,-8.179815444538619,-3.963669564673509,-1.6974776797066227,8.464978028689075,-6.079475670057533,7.554988831339486,1.0198665459367788,-14.4694414638698,6.608342358101453,15.729892570728609,10.5254719187011,-9.942988266876227,-2.5473113738021027,1.288773786887532,5.090938053115693,-4.853599075531903,8.491048509902242,-3.0566556864259553,7.312545688129568,8.97659385275054,6.374874348250117,3.7540744648396185,0.4882983593370369,-2.354557951111147,36.88365291428444,8.076505577467643,3.915699773560391,-15.05062038608331,10.800026083821322,-1.627966180999124,-14.950303097358386,13.129685299472726,-3.9397522586440203,8.022718339345204,5.04633742289235,8.031108339533148,7.3185730841588565,-27.219121479064924,-8.444558720716657,-11.017378617862093,-4.9199348683649475,16.062567884019586,-3.94957970323307,-10.729296145073462,8.533994740391108,-9.653266671611263,-7.043362098540783,-18.520400448136698,4.1778301251361825,10.976109822757266,3.616281093725462,-14.355709931636241,18.28405880841963,20.68375715431032,-0.8939527893161312,4.4258929277415575,-0.07727893175685097,-9.453117712358647,5.525693461188524,18.7300583093062,-20.44481557199944,9.972282874387759,10.590371220120971,-11.037200137225966,3.8448912104151844,0.6338985203481116,-4.8279012406031825,-10.835831031099957,3.334606931817717,-15.199520059142998,21.357998487348056,-7.597872369530776,8.395275580176573,-13.722713166079927,-1.4204447883054456,6.72905332009401,-6.628410930216326,-8.931883472072514,-6.418941228586377,10.2969623963306,4.840171236220854,0.040728371214356685,0.4125965265006073,-7.497454754383483,20.14901232506608,-3.3432705455350344,2.8998135443663955,8.38500616383952,7.424867777695994,2.1453766451796383,36.01085104459518,7.012895707915504,8.758148246462937,-5.327832093226249,8.055266825105207,2.1511380017048936,-15.422766276613018,-9.94351519815423,-9.02271399943453,4.998724304108521,-5.4303227928965185,2.3389780045359387,1.960932106769377,-4.096853437465498,5.96993588420932,-14.930031044432042,1.6013013959793767,-6.183605662596648,-14.556004792572978,-10.31653774575176,14.08919102690524,-4.448958950098842,-8.50719394460647,-8.918630221607486,11.132948341146317,6.570352370173239,-9.945582357416214,7.617603706826458,2.996960566643139,-15.758758095019687,0.4779925038479007,7.267741378338428,8.776173568629048,-3.3271932958518846,13.331480084772096,2.473359638964183,-3.332305349900224,-12.991498205476667,-6.675480803699955,7.140651179821788,-11.7841931756372,2.995150375474765,12.357030220494082,1.7204135926547224,-14.381692011457034,-1.6524005006492501,-0.12521864329786325,-16.37211644702853,14.313548470544276,12.85599114052772,16.158464709668323,-3.7264818648005473,-1.6649312711512323,-15.427363672797753,-2.4347507713677032,4.041571594793027,-0.01794872878106446,-1.1770741846095802,16.71761273328167,-27.103316443348945,-5.198710181019109,-2.100083080225886,-6.151639842785798,-7.094109805866054,1.4055348550243139,6.312411362407005,-5.99450686321704,-3.85710840531452,8.09890099089408,-14.190356113672635,-2.9335203632298317,-7.298193622676308,-13.919208876799189,-0.21888821164834837,-3.1695200698411554,-8.10027238506116,7.248610838000516,-0.5405166284600114,-1.255485866511485,9.560585516833939,-23.176367886738774,14.072934434924022,12.981039036871579,-13.142265757035801,-7.132662507965421,10.25964817480778,-6.072890151016935,-14.678504449973097,0.3026305759698573,-25.988229000745832,17.24061810868035,-6.9382345385910185,-11.665283362210033,-8.913439016052465,2.0435572664564887,2.9044148201114908,-4.44145171087257,-8.157544866520695,-6.0247343628236365,-10.400578907933891,10.188699570667353,2.2777097912363473,9.400159321237538,3.8611277608614216,-10.152208918143046,-1.0798392072522915,-26.068591631497696,-1.9340636718971638,-0.5969188057973582,-1.061829194402165,6.378086928599359,0.5783661237759361,-11.277880271116459,-1.1397066812777297,7.934597298834717,9.250846204786356,4.502018916658429,-0.738634344108803,-11.935865354762626,13.404886413664372,3.1982627788875675,-1.4431001943507908,18.33705767629435,8.335982829664061,6.7988853973618575,7.9597037385049845,-1.9188954502164677,1.6055960950179724,5.552861026010362,-4.279626265526346,-17.2307471764625,-16.392565167417516,19.22771772062336,-5.770721838351392,1.7802329006383815,-1.5515534286535626,3.982830335425483,-1.1758862988720153,-1.5140739607201823,5.789517573489228,8.963675478251808,4.486956826194842,-2.3425926445676595,-5.989963416842642,-8.53348977340147,4.941900230669134,-2.8384456730273655,-9.625025919532987,-11.655948951441289,0.5883285413152208,2.209317249396122,-1.9112423383639197,11.497074728974056,1.9360951103550832,-7.445863984731304,-6.419471294437017,2.7026760436388884,-2.177182010871661,8.246503402906868,-7.034921482250255,0.7782143613647321,2.7595145169613886,3.617238360933868,0.6289386689985861,4.478776449319582,-6.581430360025621,3.9528354801618093,-15.929640960273815,-14.652105034813815,8.915434898545044,-0.6970426942928043,6.5065662133619355,3.2664756318861095,-20.024274676447973,3.0757141711579976,-3.602260370774289,-5.413212940082786,10.006293724832403,8.550954744092053,12.06022371408119,8.85970733897777,28.50030109317182,-5.445824007936281,-20.541938412560697,-1.4782073903652702,14.162688593406074,6.427763828999474,4.588768450249972,10.17584777213375,-8.601826383951575,-8.102600443753346,11.554517938176602,-7.2508104444750785,-15.268126635772646,-19.025582052295604,-28.652120230859623,9.01992649443197,-28.242204263952033,3.5420638850878845,5.924654553805141,-3.270723748778451,5.820613340930123,-3.9904414064652656,13.200771877373015,2.38752602063434,-12.855822343616794,0.5706129143115533,-1.4159578673988307,-4.752586047173111,-11.706616293176594,16.552247121894325,-5.845240518374354,2.6813913924176376,-1.6663789531183824,-10.599501697623765,11.941866514118445,10.126444414430892,19.354299597138066,5.491589417637769,-13.304323443788164,1.205871884734691,13.40124895654786,4.85678744575047,14.878617034906227,11.251861017311612,-3.888189102637128,11.738733263060283,-11.126343052033022,0.7112029083033633,-0.8559470394452546,2.7837296760789343,-7.728478385437228,-7.831598877770105,-3.3505435191217146,-5.647891059076471,2.120896699204252,-5.422030069090482,3.378777754738067,-0.022316221624024024,2.746437493662981,4.5721853931919725,6.8911179772179025,-4.676901038588852,-13.106059128134632,-11.711019716695588,12.565653359454359,-12.892030514068736,3.181585016179291,-6.007330151455918,9.062153320472106,-1.4197991387400464,-3.137231828969078,14.846047919196529,-6.0826716634419,-13.459350078383153,1.7464794568162745,-13.601681308280135,1.8969349345240687,-8.49584531046618,22.185699659510988,-24.187777793134643,-14.954582452429577,2.8462550425367823,19.720890266438175,-2.8802836830548983,14.439255470737564,-4.4485353755748775,-4.115657191642825,9.414031690020252,-11.20967023614378,-8.055747028061731,-9.758233372885641,-0.08857703668896022,14.155240669137065,-9.778722722111382,2.7037139913579153,13.897801431926695,-13.520393659743263,-20.994075205025098,0.4124812897920265,-21.591211546032923,-0.9131472861134853,3.8045590416635093,6.30458454185478,-16.370824079927417,7.8014388138777235,-7.352693099749871,5.591638350592078,4.603067625743634,-10.302496939695672,3.8003684628935304,4.047953794202925,-11.328046971748066,-15.973972932216228,-6.446898032842327,6.547697756239501,5.106084992975795,-0.7991526374003683,-3.209300619256581,9.878659101397716,-7.230379395798636,-0.8551332963959908,17.157083186381293,9.2892648246073,5.041286736516639,0.7285768884105579,-18.892787955039964,-2.381713061396283,8.407718898986246,-2.2063080430716298,3.520877474538821,-3.2475823953354137,-5.805676870356152,-12.092306472239386,0.24286495670025943,-16.38960527599832,-9.080226625361902,7.0743954481218765,-22.098556657484636,-3.2699451327009825,8.351245039722357,-16.52913051230422,-20.777775851984458],\"xaxis\":\"x\",\"yaxis\":\"y\",\"type\":\"histogram\"}],                        {\"template\":{\"data\":{\"bar\":[{\"error_x\":{\"color\":\"#2a3f5f\"},\"error_y\":{\"color\":\"#2a3f5f\"},\"marker\":{\"line\":{\"color\":\"#E5ECF6\",\"width\":0.5},\"pattern\":{\"fillmode\":\"overlay\",\"size\":10,\"solidity\":0.2}},\"type\":\"bar\"}],\"barpolar\":[{\"marker\":{\"line\":{\"color\":\"#E5ECF6\",\"width\":0.5},\"pattern\":{\"fillmode\":\"overlay\",\"size\":10,\"solidity\":0.2}},\"type\":\"barpolar\"}],\"carpet\":[{\"aaxis\":{\"endlinecolor\":\"#2a3f5f\",\"gridcolor\":\"white\",\"linecolor\":\"white\",\"minorgridcolor\":\"white\",\"startlinecolor\":\"#2a3f5f\"},\"baxis\":{\"endlinecolor\":\"#2a3f5f\",\"gridcolor\":\"white\",\"linecolor\":\"white\",\"minorgridcolor\":\"white\",\"startlinecolor\":\"#2a3f5f\"},\"type\":\"carpet\"}],\"choropleth\":[{\"colorbar\":{\"outlinewidth\":0,\"ticks\":\"\"},\"type\":\"choropleth\"}],\"contour\":[{\"colorbar\":{\"outlinewidth\":0,\"ticks\":\"\"},\"colorscale\":[[0.0,\"#0d0887\"],[0.1111111111111111,\"#46039f\"],[0.2222222222222222,\"#7201a8\"],[0.3333333333333333,\"#9c179e\"],[0.4444444444444444,\"#bd3786\"],[0.5555555555555556,\"#d8576b\"],[0.6666666666666666,\"#ed7953\"],[0.7777777777777778,\"#fb9f3a\"],[0.8888888888888888,\"#fdca26\"],[1.0,\"#f0f921\"]],\"type\":\"contour\"}],\"contourcarpet\":[{\"colorbar\":{\"outlinewidth\":0,\"ticks\":\"\"},\"type\":\"contourcarpet\"}],\"heatmap\":[{\"colorbar\":{\"outlinewidth\":0,\"ticks\":\"\"},\"colorscale\":[[0.0,\"#0d0887\"],[0.1111111111111111,\"#46039f\"],[0.2222222222222222,\"#7201a8\"],[0.3333333333333333,\"#9c179e\"],[0.4444444444444444,\"#bd3786\"],[0.5555555555555556,\"#d8576b\"],[0.6666666666666666,\"#ed7953\"],[0.7777777777777778,\"#fb9f3a\"],[0.8888888888888888,\"#fdca26\"],[1.0,\"#f0f921\"]],\"type\":\"heatmap\"}],\"heatmapgl\":[{\"colorbar\":{\"outlinewidth\":0,\"ticks\":\"\"},\"colorscale\":[[0.0,\"#0d0887\"],[0.1111111111111111,\"#46039f\"],[0.2222222222222222,\"#7201a8\"],[0.3333333333333333,\"#9c179e\"],[0.4444444444444444,\"#bd3786\"],[0.5555555555555556,\"#d8576b\"],[0.6666666666666666,\"#ed7953\"],[0.7777777777777778,\"#fb9f3a\"],[0.8888888888888888,\"#fdca26\"],[1.0,\"#f0f921\"]],\"type\":\"heatmapgl\"}],\"histogram\":[{\"marker\":{\"pattern\":{\"fillmode\":\"overlay\",\"size\":10,\"solidity\":0.2}},\"type\":\"histogram\"}],\"histogram2d\":[{\"colorbar\":{\"outlinewidth\":0,\"ticks\":\"\"},\"colorscale\":[[0.0,\"#0d0887\"],[0.1111111111111111,\"#46039f\"],[0.2222222222222222,\"#7201a8\"],[0.3333333333333333,\"#9c179e\"],[0.4444444444444444,\"#bd3786\"],[0.5555555555555556,\"#d8576b\"],[0.6666666666666666,\"#ed7953\"],[0.7777777777777778,\"#fb9f3a\"],[0.8888888888888888,\"#fdca26\"],[1.0,\"#f0f921\"]],\"type\":\"histogram2d\"}],\"histogram2dcontour\":[{\"colorbar\":{\"outlinewidth\":0,\"ticks\":\"\"},\"colorscale\":[[0.0,\"#0d0887\"],[0.1111111111111111,\"#46039f\"],[0.2222222222222222,\"#7201a8\"],[0.3333333333333333,\"#9c179e\"],[0.4444444444444444,\"#bd3786\"],[0.5555555555555556,\"#d8576b\"],[0.6666666666666666,\"#ed7953\"],[0.7777777777777778,\"#fb9f3a\"],[0.8888888888888888,\"#fdca26\"],[1.0,\"#f0f921\"]],\"type\":\"histogram2dcontour\"}],\"mesh3d\":[{\"colorbar\":{\"outlinewidth\":0,\"ticks\":\"\"},\"type\":\"mesh3d\"}],\"parcoords\":[{\"line\":{\"colorbar\":{\"outlinewidth\":0,\"ticks\":\"\"}},\"type\":\"parcoords\"}],\"pie\":[{\"automargin\":true,\"type\":\"pie\"}],\"scatter\":[{\"marker\":{\"colorbar\":{\"outlinewidth\":0,\"ticks\":\"\"}},\"type\":\"scatter\"}],\"scatter3d\":[{\"line\":{\"colorbar\":{\"outlinewidth\":0,\"ticks\":\"\"}},\"marker\":{\"colorbar\":{\"outlinewidth\":0,\"ticks\":\"\"}},\"type\":\"scatter3d\"}],\"scattercarpet\":[{\"marker\":{\"colorbar\":{\"outlinewidth\":0,\"ticks\":\"\"}},\"type\":\"scattercarpet\"}],\"scattergeo\":[{\"marker\":{\"colorbar\":{\"outlinewidth\":0,\"ticks\":\"\"}},\"type\":\"scattergeo\"}],\"scattergl\":[{\"marker\":{\"colorbar\":{\"outlinewidth\":0,\"ticks\":\"\"}},\"type\":\"scattergl\"}],\"scattermapbox\":[{\"marker\":{\"colorbar\":{\"outlinewidth\":0,\"ticks\":\"\"}},\"type\":\"scattermapbox\"}],\"scatterpolar\":[{\"marker\":{\"colorbar\":{\"outlinewidth\":0,\"ticks\":\"\"}},\"type\":\"scatterpolar\"}],\"scatterpolargl\":[{\"marker\":{\"colorbar\":{\"outlinewidth\":0,\"ticks\":\"\"}},\"type\":\"scatterpolargl\"}],\"scatterternary\":[{\"marker\":{\"colorbar\":{\"outlinewidth\":0,\"ticks\":\"\"}},\"type\":\"scatterternary\"}],\"surface\":[{\"colorbar\":{\"outlinewidth\":0,\"ticks\":\"\"},\"colorscale\":[[0.0,\"#0d0887\"],[0.1111111111111111,\"#46039f\"],[0.2222222222222222,\"#7201a8\"],[0.3333333333333333,\"#9c179e\"],[0.4444444444444444,\"#bd3786\"],[0.5555555555555556,\"#d8576b\"],[0.6666666666666666,\"#ed7953\"],[0.7777777777777778,\"#fb9f3a\"],[0.8888888888888888,\"#fdca26\"],[1.0,\"#f0f921\"]],\"type\":\"surface\"}],\"table\":[{\"cells\":{\"fill\":{\"color\":\"#EBF0F8\"},\"line\":{\"color\":\"white\"}},\"header\":{\"fill\":{\"color\":\"#C8D4E3\"},\"line\":{\"color\":\"white\"}},\"type\":\"table\"}]},\"layout\":{\"annotationdefaults\":{\"arrowcolor\":\"#2a3f5f\",\"arrowhead\":0,\"arrowwidth\":1},\"autotypenumbers\":\"strict\",\"coloraxis\":{\"colorbar\":{\"outlinewidth\":0,\"ticks\":\"\"}},\"colorscale\":{\"diverging\":[[0,\"#8e0152\"],[0.1,\"#c51b7d\"],[0.2,\"#de77ae\"],[0.3,\"#f1b6da\"],[0.4,\"#fde0ef\"],[0.5,\"#f7f7f7\"],[0.6,\"#e6f5d0\"],[0.7,\"#b8e186\"],[0.8,\"#7fbc41\"],[0.9,\"#4d9221\"],[1,\"#276419\"]],\"sequential\":[[0.0,\"#0d0887\"],[0.1111111111111111,\"#46039f\"],[0.2222222222222222,\"#7201a8\"],[0.3333333333333333,\"#9c179e\"],[0.4444444444444444,\"#bd3786\"],[0.5555555555555556,\"#d8576b\"],[0.6666666666666666,\"#ed7953\"],[0.7777777777777778,\"#fb9f3a\"],[0.8888888888888888,\"#fdca26\"],[1.0,\"#f0f921\"]],\"sequentialminus\":[[0.0,\"#0d0887\"],[0.1111111111111111,\"#46039f\"],[0.2222222222222222,\"#7201a8\"],[0.3333333333333333,\"#9c179e\"],[0.4444444444444444,\"#bd3786\"],[0.5555555555555556,\"#d8576b\"],[0.6666666666666666,\"#ed7953\"],[0.7777777777777778,\"#fb9f3a\"],[0.8888888888888888,\"#fdca26\"],[1.0,\"#f0f921\"]]},\"colorway\":[\"#636efa\",\"#EF553B\",\"#00cc96\",\"#ab63fa\",\"#FFA15A\",\"#19d3f3\",\"#FF6692\",\"#B6E880\",\"#FF97FF\",\"#FECB52\"],\"font\":{\"color\":\"#2a3f5f\"},\"geo\":{\"bgcolor\":\"white\",\"lakecolor\":\"white\",\"landcolor\":\"#E5ECF6\",\"showlakes\":true,\"showland\":true,\"subunitcolor\":\"white\"},\"hoverlabel\":{\"align\":\"left\"},\"hovermode\":\"closest\",\"mapbox\":{\"style\":\"light\"},\"paper_bgcolor\":\"white\",\"plot_bgcolor\":\"#E5ECF6\",\"polar\":{\"angularaxis\":{\"gridcolor\":\"white\",\"linecolor\":\"white\",\"ticks\":\"\"},\"bgcolor\":\"#E5ECF6\",\"radialaxis\":{\"gridcolor\":\"white\",\"linecolor\":\"white\",\"ticks\":\"\"}},\"scene\":{\"xaxis\":{\"backgroundcolor\":\"#E5ECF6\",\"gridcolor\":\"white\",\"gridwidth\":2,\"linecolor\":\"white\",\"showbackground\":true,\"ticks\":\"\",\"zerolinecolor\":\"white\"},\"yaxis\":{\"backgroundcolor\":\"#E5ECF6\",\"gridcolor\":\"white\",\"gridwidth\":2,\"linecolor\":\"white\",\"showbackground\":true,\"ticks\":\"\",\"zerolinecolor\":\"white\"},\"zaxis\":{\"backgroundcolor\":\"#E5ECF6\",\"gridcolor\":\"white\",\"gridwidth\":2,\"linecolor\":\"white\",\"showbackground\":true,\"ticks\":\"\",\"zerolinecolor\":\"white\"}},\"shapedefaults\":{\"line\":{\"color\":\"#2a3f5f\"}},\"ternary\":{\"aaxis\":{\"gridcolor\":\"white\",\"linecolor\":\"white\",\"ticks\":\"\"},\"baxis\":{\"gridcolor\":\"white\",\"linecolor\":\"white\",\"ticks\":\"\"},\"bgcolor\":\"#E5ECF6\",\"caxis\":{\"gridcolor\":\"white\",\"linecolor\":\"white\",\"ticks\":\"\"}},\"title\":{\"x\":0.05},\"xaxis\":{\"automargin\":true,\"gridcolor\":\"white\",\"linecolor\":\"white\",\"ticks\":\"\",\"title\":{\"standoff\":15},\"zerolinecolor\":\"white\",\"zerolinewidth\":2},\"yaxis\":{\"automargin\":true,\"gridcolor\":\"white\",\"linecolor\":\"white\",\"ticks\":\"\",\"title\":{\"standoff\":15},\"zerolinecolor\":\"white\",\"zerolinewidth\":2}}},\"xaxis\":{\"anchor\":\"y\",\"domain\":[0.0,1.0],\"title\":{\"text\":\"error\"}},\"yaxis\":{\"anchor\":\"x\",\"domain\":[0.0,1.0],\"title\":{\"text\":\"count\"}},\"legend\":{\"tracegroupgap\":0},\"margin\":{\"t\":60},\"barmode\":\"relative\",\"width\":800},                        {\"responsive\": true}                    ).then(function(){\n",
              "                            \n",
              "var gd = document.getElementById('7442484e-359a-4d6b-ade8-100968b85549');\n",
              "var x = new MutationObserver(function (mutations, observer) {{\n",
              "        var display = window.getComputedStyle(gd).display;\n",
              "        if (!display || display === 'none') {{\n",
              "            console.log([gd, 'removed!']);\n",
              "            Plotly.purge(gd);\n",
              "            observer.disconnect();\n",
              "        }}\n",
              "}});\n",
              "\n",
              "// Listen for the removal of the full notebook cells\n",
              "var notebookContainer = gd.closest('#notebook-container');\n",
              "if (notebookContainer) {{\n",
              "    x.observe(notebookContainer, {childList: true});\n",
              "}}\n",
              "\n",
              "// Listen for the clearing of the current output cell\n",
              "var outputEl = gd.closest('.output');\n",
              "if (outputEl) {{\n",
              "    x.observe(outputEl, {childList: true});\n",
              "}}\n",
              "\n",
              "                        })                };                            </script>        </div>\n",
              "</body>\n",
              "</html>"
            ]
          },
          "metadata": {}
        }
      ]
    },
    {
      "cell_type": "code",
      "source": [
        "max(results['error'])"
      ],
      "metadata": {
        "colab": {
          "base_uri": "https://localhost:8080/"
        },
        "id": "pLoLHKYATV8C",
        "outputId": "f63a84e2-4189-4aa4-b852-d53be2334e0b"
      },
      "execution_count": 30,
      "outputs": [
        {
          "output_type": "execute_result",
          "data": {
            "text/plain": [
              "29.403886346642807"
            ]
          },
          "metadata": {},
          "execution_count": 30
        }
      ]
    },
    {
      "cell_type": "code",
      "source": [
        "results.head()"
      ],
      "metadata": {
        "colab": {
          "base_uri": "https://localhost:8080/",
          "height": 206
        },
        "id": "e5nuo1MeQabq",
        "outputId": "bdfa57fb-b447-4a19-eabe-7850de2b77cd"
      },
      "execution_count": 24,
      "outputs": [
        {
          "output_type": "execute_result",
          "data": {
            "text/plain": [
              "       y_true      y_pred      error\n",
              "0  107.528191  100.459265   7.068926\n",
              "1   81.958969   90.514526  -8.555557\n",
              "2   82.606738   99.101547 -16.494809\n",
              "3  122.508696  133.214801 -10.706106\n",
              "4   76.211762   68.915737   7.296025"
            ],
            "text/html": [
              "\n",
              "  <div id=\"df-07bbdaa5-9021-4eba-a87c-5470e265e71d\">\n",
              "    <div class=\"colab-df-container\">\n",
              "      <div>\n",
              "<style scoped>\n",
              "    .dataframe tbody tr th:only-of-type {\n",
              "        vertical-align: middle;\n",
              "    }\n",
              "\n",
              "    .dataframe tbody tr th {\n",
              "        vertical-align: top;\n",
              "    }\n",
              "\n",
              "    .dataframe thead th {\n",
              "        text-align: right;\n",
              "    }\n",
              "</style>\n",
              "<table border=\"1\" class=\"dataframe\">\n",
              "  <thead>\n",
              "    <tr style=\"text-align: right;\">\n",
              "      <th></th>\n",
              "      <th>y_true</th>\n",
              "      <th>y_pred</th>\n",
              "      <th>error</th>\n",
              "    </tr>\n",
              "  </thead>\n",
              "  <tbody>\n",
              "    <tr>\n",
              "      <th>0</th>\n",
              "      <td>107.528191</td>\n",
              "      <td>100.459265</td>\n",
              "      <td>7.068926</td>\n",
              "    </tr>\n",
              "    <tr>\n",
              "      <th>1</th>\n",
              "      <td>81.958969</td>\n",
              "      <td>90.514526</td>\n",
              "      <td>-8.555557</td>\n",
              "    </tr>\n",
              "    <tr>\n",
              "      <th>2</th>\n",
              "      <td>82.606738</td>\n",
              "      <td>99.101547</td>\n",
              "      <td>-16.494809</td>\n",
              "    </tr>\n",
              "    <tr>\n",
              "      <th>3</th>\n",
              "      <td>122.508696</td>\n",
              "      <td>133.214801</td>\n",
              "      <td>-10.706106</td>\n",
              "    </tr>\n",
              "    <tr>\n",
              "      <th>4</th>\n",
              "      <td>76.211762</td>\n",
              "      <td>68.915737</td>\n",
              "      <td>7.296025</td>\n",
              "    </tr>\n",
              "  </tbody>\n",
              "</table>\n",
              "</div>\n",
              "      <button class=\"colab-df-convert\" onclick=\"convertToInteractive('df-07bbdaa5-9021-4eba-a87c-5470e265e71d')\"\n",
              "              title=\"Convert this dataframe to an interactive table.\"\n",
              "              style=\"display:none;\">\n",
              "        \n",
              "  <svg xmlns=\"http://www.w3.org/2000/svg\" height=\"24px\"viewBox=\"0 0 24 24\"\n",
              "       width=\"24px\">\n",
              "    <path d=\"M0 0h24v24H0V0z\" fill=\"none\"/>\n",
              "    <path d=\"M18.56 5.44l.94 2.06.94-2.06 2.06-.94-2.06-.94-.94-2.06-.94 2.06-2.06.94zm-11 1L8.5 8.5l.94-2.06 2.06-.94-2.06-.94L8.5 2.5l-.94 2.06-2.06.94zm10 10l.94 2.06.94-2.06 2.06-.94-2.06-.94-.94-2.06-.94 2.06-2.06.94z\"/><path d=\"M17.41 7.96l-1.37-1.37c-.4-.4-.92-.59-1.43-.59-.52 0-1.04.2-1.43.59L10.3 9.45l-7.72 7.72c-.78.78-.78 2.05 0 2.83L4 21.41c.39.39.9.59 1.41.59.51 0 1.02-.2 1.41-.59l7.78-7.78 2.81-2.81c.8-.78.8-2.07 0-2.86zM5.41 20L4 18.59l7.72-7.72 1.47 1.35L5.41 20z\"/>\n",
              "  </svg>\n",
              "      </button>\n",
              "      \n",
              "  <style>\n",
              "    .colab-df-container {\n",
              "      display:flex;\n",
              "      flex-wrap:wrap;\n",
              "      gap: 12px;\n",
              "    }\n",
              "\n",
              "    .colab-df-convert {\n",
              "      background-color: #E8F0FE;\n",
              "      border: none;\n",
              "      border-radius: 50%;\n",
              "      cursor: pointer;\n",
              "      display: none;\n",
              "      fill: #1967D2;\n",
              "      height: 32px;\n",
              "      padding: 0 0 0 0;\n",
              "      width: 32px;\n",
              "    }\n",
              "\n",
              "    .colab-df-convert:hover {\n",
              "      background-color: #E2EBFA;\n",
              "      box-shadow: 0px 1px 2px rgba(60, 64, 67, 0.3), 0px 1px 3px 1px rgba(60, 64, 67, 0.15);\n",
              "      fill: #174EA6;\n",
              "    }\n",
              "\n",
              "    [theme=dark] .colab-df-convert {\n",
              "      background-color: #3B4455;\n",
              "      fill: #D2E3FC;\n",
              "    }\n",
              "\n",
              "    [theme=dark] .colab-df-convert:hover {\n",
              "      background-color: #434B5C;\n",
              "      box-shadow: 0px 1px 3px 1px rgba(0, 0, 0, 0.15);\n",
              "      filter: drop-shadow(0px 1px 2px rgba(0, 0, 0, 0.3));\n",
              "      fill: #FFFFFF;\n",
              "    }\n",
              "  </style>\n",
              "\n",
              "      <script>\n",
              "        const buttonEl =\n",
              "          document.querySelector('#df-07bbdaa5-9021-4eba-a87c-5470e265e71d button.colab-df-convert');\n",
              "        buttonEl.style.display =\n",
              "          google.colab.kernel.accessAllowed ? 'block' : 'none';\n",
              "\n",
              "        async function convertToInteractive(key) {\n",
              "          const element = document.querySelector('#df-07bbdaa5-9021-4eba-a87c-5470e265e71d');\n",
              "          const dataTable =\n",
              "            await google.colab.kernel.invokeFunction('convertToInteractive',\n",
              "                                                     [key], {});\n",
              "          if (!dataTable) return;\n",
              "\n",
              "          const docLinkHtml = 'Like what you see? Visit the ' +\n",
              "            '<a target=\"_blank\" href=https://colab.research.google.com/notebooks/data_table.ipynb>data table notebook</a>'\n",
              "            + ' to learn more about interactive tables.';\n",
              "          element.innerHTML = '';\n",
              "          dataTable['output_type'] = 'display_data';\n",
              "          await google.colab.output.renderOutput(dataTable, element);\n",
              "          const docLink = document.createElement('div');\n",
              "          docLink.innerHTML = docLinkHtml;\n",
              "          element.appendChild(docLink);\n",
              "        }\n",
              "      </script>\n",
              "    </div>\n",
              "  </div>\n",
              "  "
            ]
          },
          "metadata": {},
          "execution_count": 24
        }
      ]
    },
    {
      "cell_type": "code",
      "source": [
        "plt.hist(results['error'], 50, rwidth=500)"
      ],
      "metadata": {
        "colab": {
          "base_uri": "https://localhost:8080/",
          "height": 593
        },
        "id": "rB0G7YyVSkUj",
        "outputId": "5ec83028-494f-4c77-8a59-f46a6016bfd9"
      },
      "execution_count": 40,
      "outputs": [
        {
          "output_type": "execute_result",
          "data": {
            "text/plain": [
              "(array([ 1.,  2.,  5.,  2.,  1.,  5.,  2., 10., 10.,  6., 15., 19., 27.,\n",
              "        25., 30., 33., 28., 49., 47., 39., 47., 48., 55., 51., 48., 56.,\n",
              "        49., 40., 44., 47., 31., 24., 18., 18., 11., 15., 10.,  9.,  8.,\n",
              "         5.,  2.,  0.,  1.,  2.,  1.,  1.,  1.,  0.,  0.,  2.]),\n",
              " array([-31.17681129, -29.81560201, -28.45439272, -27.09318344,\n",
              "        -25.73197416, -24.37076487, -23.00955559, -21.6483463 ,\n",
              "        -20.28713702, -18.92592773, -17.56471845, -16.20350917,\n",
              "        -14.84229988, -13.4810906 , -12.11988131, -10.75867203,\n",
              "         -9.39746275,  -8.03625346,  -6.67504418,  -5.31383489,\n",
              "         -3.95262561,  -2.59141633,  -1.23020704,   0.13100224,\n",
              "          1.49221153,   2.85342081,   4.2146301 ,   5.57583938,\n",
              "          6.93704866,   8.29825795,   9.65946723,  11.02067652,\n",
              "         12.3818858 ,  13.74309508,  15.10430437,  16.46551365,\n",
              "         17.82672294,  19.18793222,  20.5491415 ,  21.91035079,\n",
              "         23.27156007,  24.63276936,  25.99397864,  27.35518793,\n",
              "         28.71639721,  30.07760649,  31.43881578,  32.80002506,\n",
              "         34.16123435,  35.52244363,  36.88365291]),\n",
              " <a list of 50 Patch objects>)"
            ]
          },
          "metadata": {},
          "execution_count": 40
        },
        {
          "output_type": "display_data",
          "data": {
            "text/plain": [
              "<Figure size 432x288 with 1 Axes>"
            ],
            "image/png": "[encoded data removed]"
          },
          "metadata": {
            "needs_background": "light"
          }
        }
      ]
    },
    {
      "cell_type": "markdown",
      "source": [
        "### <a name='a3'></a> Mean Absolute Error - Średni błąd bezwzględny\n",
        "### $$MAE = \\frac{1}{n}\\sum_{i=1}^{n}|y_{true} - y_{pred}|$$"
      ],
      "metadata": {
        "id": "LDjHHw9JW-Sa"
      }
    },
    {
      "cell_type": "code",
      "source": [
        "def mean_absolute_error(y_true, y_pred):\n",
        "   return abs(y_true-y_pred).sum() /len(y_true)"
      ],
      "metadata": {
        "id": "kWsjhucdXE5v"
      },
      "execution_count": 43,
      "outputs": []
    },
    {
      "cell_type": "code",
      "source": [
        "mean_absolute_error(y_true, y_pred)"
      ],
      "metadata": {
        "colab": {
          "base_uri": "https://localhost:8080/"
        },
        "id": "VaEXoO5zXfvR",
        "outputId": "98ccf51e-c4c2-4fbb-8514-236b92633c49"
      },
      "execution_count": 44,
      "outputs": [
        {
          "output_type": "execute_result",
          "data": {
            "text/plain": [
              "8.288857705659687"
            ]
          },
          "metadata": {},
          "execution_count": 44
        }
      ]
    },
    {
      "cell_type": "code",
      "source": [
        "from sklearn.metrics import mean_absolute_error\n",
        "mean_absolute_error(y_true, y_pred)"
      ],
      "metadata": {
        "colab": {
          "base_uri": "https://localhost:8080/"
        },
        "id": "53IdEqyWX9mG",
        "outputId": "2317cbb8-4d53-4749-c970-cfe8a25c1874"
      },
      "execution_count": 45,
      "outputs": [
        {
          "output_type": "execute_result",
          "data": {
            "text/plain": [
              "8.288857705659687"
            ]
          },
          "metadata": {},
          "execution_count": 45
        }
      ]
    },
    {
      "cell_type": "markdown",
      "source": [
        "### <a name='a4'></a> Mean Squared Error - MSE - Błąd średniokwadratowy\n",
        "### $$MSE = \\frac{1}{n}\\sum_{i=1}^{n}(y_{true} - y_{pred})^{2}$$"
      ],
      "metadata": {
        "id": "Euq50XgwYKAP"
      }
    },
    {
      "cell_type": "code",
      "source": [
        "def mean_squared_error(y_true,y_pred):\n",
        "  return ((y_true-y_pred)**2).sum()/len(y_true)"
      ],
      "metadata": {
        "id": "rYz0bhAsYO7Q"
      },
      "execution_count": 47,
      "outputs": []
    },
    {
      "cell_type": "code",
      "source": [
        "mean_squared_error(y_true,y_pred)"
      ],
      "metadata": {
        "colab": {
          "base_uri": "https://localhost:8080/"
        },
        "id": "jkGpCy4tYjgy",
        "outputId": "143dd19b-ff7b-42a5-e627-a4e2603e84c0"
      },
      "execution_count": 48,
      "outputs": [
        {
          "output_type": "execute_result",
          "data": {
            "text/plain": [
              "108.45063413878073"
            ]
          },
          "metadata": {},
          "execution_count": 48
        }
      ]
    },
    {
      "cell_type": "code",
      "source": [
        "from sklearn.metrics import mean_squared_error\n",
        "mean_squared_error(y_true,y_pred)"
      ],
      "metadata": {
        "colab": {
          "base_uri": "https://localhost:8080/"
        },
        "id": "evt0PZmfYrjz",
        "outputId": "542c4cf2-2ef5-43fe-b9f4-80adb82fa111"
      },
      "execution_count": 49,
      "outputs": [
        {
          "output_type": "execute_result",
          "data": {
            "text/plain": [
              "108.45063413878073"
            ]
          },
          "metadata": {},
          "execution_count": 49
        }
      ]
    },
    {
      "cell_type": "markdown",
      "source": [
        "### <a name='a5'></a> Root Mean Squared Error - RMSE - Pierwiastek błędu średniokwadratowego\n",
        "### $$RMSE = \\sqrt{MSE}$$"
      ],
      "metadata": {
        "id": "ouTHpRxJY3AS"
      }
    },
    {
      "cell_type": "code",
      "source": [
        "def root_mean_squared_error(y_true, y_pred):\n",
        "    return np.sqrt(((y_true - y_pred) ** 2).sum() / len(y_true))\n",
        "\n",
        "root_mean_squared_error(y_true, y_pred)"
      ],
      "metadata": {
        "colab": {
          "base_uri": "https://localhost:8080/"
        },
        "id": "q0Bl73_mY7EW",
        "outputId": "e598d7b3-0a4f-46c3-f55e-00f1aca2d21c"
      },
      "execution_count": 50,
      "outputs": [
        {
          "output_type": "execute_result",
          "data": {
            "text/plain": [
              "10.413963421233086"
            ]
          },
          "metadata": {},
          "execution_count": 50
        }
      ]
    },
    {
      "cell_type": "code",
      "source": [
        "np.sqrt(mean_squared_error(y_true, y_pred))"
      ],
      "metadata": {
        "colab": {
          "base_uri": "https://localhost:8080/"
        },
        "id": "qiThpWdMZC5e",
        "outputId": "4d5e442e-f2a8-4661-ab7a-2916b1f24a57"
      },
      "execution_count": 51,
      "outputs": [
        {
          "output_type": "execute_result",
          "data": {
            "text/plain": [
              "10.413963421233086"
            ]
          },
          "metadata": {},
          "execution_count": 51
        }
      ]
    },
    {
      "cell_type": "markdown",
      "source": [
        "### <a name='a6'></a>  Max Error - Błąd maksymalny\n",
        "\n",
        "$$ME = max(|y\\_true - y\\_pred|)$$ "
      ],
      "metadata": {
        "id": "1TXi_Mf3ZYE5"
      }
    },
    {
      "cell_type": "code",
      "source": [
        "def max_error(y_true, y_pred):\n",
        "    return abs(y_true - y_pred).max()"
      ],
      "metadata": {
        "id": "2muyREKcZD7Y"
      },
      "execution_count": 52,
      "outputs": []
    },
    {
      "cell_type": "code",
      "source": [
        "max_error(y_true,y_pred)"
      ],
      "metadata": {
        "colab": {
          "base_uri": "https://localhost:8080/"
        },
        "id": "Qy853C0PZiQj",
        "outputId": "5905767f-cf98-42f1-d408-c020d4927b5e"
      },
      "execution_count": 53,
      "outputs": [
        {
          "output_type": "execute_result",
          "data": {
            "text/plain": [
              "36.88365291428444"
            ]
          },
          "metadata": {},
          "execution_count": 53
        }
      ]
    },
    {
      "cell_type": "code",
      "source": [
        "from sklearn.metrics import max_error\n",
        "\n",
        "max_error(y_true, y_pred)"
      ],
      "metadata": {
        "colab": {
          "base_uri": "https://localhost:8080/"
        },
        "id": "9YlfAoqsZpcZ",
        "outputId": "e4a82efd-7d4a-4dce-d590-9dc15eb5fd0d"
      },
      "execution_count": 54,
      "outputs": [
        {
          "output_type": "execute_result",
          "data": {
            "text/plain": [
              "36.88365291428444"
            ]
          },
          "metadata": {},
          "execution_count": 54
        }
      ]
    },
    {
      "cell_type": "markdown",
      "source": [
        "### <a name='a7'></a>  R2 score - współczynnik determinacji\n",
        "### $$R2\\_score = 1 - \\frac{\\sum_{i=1}^{N}(y_{true} - y_{pred})^{2}}{\\sum_{i=1}^{N}(y_{true} - \\overline{y_{true}})^{2}}$$"
      ],
      "metadata": {
        "id": "Q1zDarHVZuiI"
      }
    },
    {
      "cell_type": "code",
      "source": [
        "from sklearn.metrics import r2_score\n",
        "\n",
        "r2_score(y_true, y_pred)"
      ],
      "metadata": {
        "colab": {
          "base_uri": "https://localhost:8080/"
        },
        "id": "cezkRWUWZxro",
        "outputId": "e943f014-9009-47b0-c352-851870572ffa"
      },
      "execution_count": 55,
      "outputs": [
        {
          "output_type": "execute_result",
          "data": {
            "text/plain": [
              "0.7416817577294164"
            ]
          },
          "metadata": {},
          "execution_count": 55
        }
      ]
    },
    {
      "cell_type": "code",
      "source": [
        "def r2_score(y_true, y_pred):\n",
        "    numerator = ((y_true - y_pred) ** 2).sum()\n",
        "    denominator = ((y_true - y_true.mean()) ** 2).sum()\n",
        "    try:\n",
        "        r2 = 1 - numerator / denominator\n",
        "    except ZeroDivisionError:\n",
        "        print('Dzielenie przez zero')\n",
        "    return r2"
      ],
      "metadata": {
        "id": "b0VcIAb9Z7-V"
      },
      "execution_count": 56,
      "outputs": []
    },
    {
      "cell_type": "code",
      "source": [
        "r2_score(y_true, y_pred)"
      ],
      "metadata": {
        "colab": {
          "base_uri": "https://localhost:8080/"
        },
        "id": "vmUmVQn_Z9zS",
        "outputId": "215b69c6-1df9-404a-83a4-e61d44559db4"
      },
      "execution_count": 57,
      "outputs": [
        {
          "output_type": "execute_result",
          "data": {
            "text/plain": [
              "0.7416817577294164"
            ]
          },
          "metadata": {},
          "execution_count": 57
        }
      ]
    }
  ]
}